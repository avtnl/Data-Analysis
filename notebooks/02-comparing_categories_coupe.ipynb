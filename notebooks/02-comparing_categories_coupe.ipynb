{
 "cells": [
  {
   "cell_type": "code",
   "execution_count": 1,
   "metadata": {},
   "outputs": [],
   "source": [
    "import seaborn as sns\n",
    "import matplotlib.pyplot as plt\n",
    "import pandas as pd\n",
    "from pathlib import Path\n",
    "from loguru import logger\n",
    "import warnings\n",
    "\n",
    "warnings.simplefilter(action=\"ignore\", category=FutureWarning)"
   ]
  },
  {
   "cell_type": "markdown",
   "metadata": {},
   "source": [
    "Let's load the parquetfile we saved in notebook 1. You will need to change the filename in the config file!"
   ]
  },
  {
   "cell_type": "code",
   "execution_count": 2,
   "metadata": {},
   "outputs": [
    {
     "data": {
      "text/plain": [
       "{'raw': 'data/raw',\n",
       " 'processed': 'data/processed',\n",
       " 'input': '_chat.txt',\n",
       " 'current': 'whatsapp-20250910-002822-maap-cleaned.parq',\n",
       " 'current_1': 'whatsapp-20250910-004727-golf-cleaned.parq',\n",
       " 'current_2': 'whatsapp-20250910-012654-voorganger-golf-cleaned.parq',\n",
       " 'inputpath': 'whatsapp-20250910-001356-maap.csv',\n",
       " 'datetime_format': '%d-%m-%Y, %H:%M:%S',\n",
       " 'drop_authors': []}"
      ]
     },
     "execution_count": 2,
     "metadata": {},
     "output_type": "execute_result"
    }
   ],
   "source": [
    "import tomllib\n",
    "\n",
    "configfile = Path(\"../config.toml\").resolve()\n",
    "with configfile.open(\"rb\") as f:\n",
    "    config = tomllib.load(f)\n",
    "config"
   ]
  },
  {
   "cell_type": "code",
   "execution_count": 3,
   "metadata": {},
   "outputs": [],
   "source": [
    "root = Path(\"..\").resolve()\n",
    "processed = root / Path(config[\"processed\"])\n",
    "datafile = processed / config[\"current\"]\n",
    "if not datafile.exists():\n",
    "    logger.warning(\n",
    "        f\"{datafile} does not exist. First run src/preprocess.py, and check the timestamp!\"\n",
    "    )\n"
   ]
  },
  {
   "cell_type": "markdown",
   "metadata": {},
   "source": [
    "Note how datatypes have been preserved."
   ]
  },
  {
   "cell_type": "code",
   "execution_count": 4,
   "metadata": {},
   "outputs": [
    {
     "data": {
      "text/plain": [
       "timestamp    datetime64[ns, UTC]\n",
       "author                    object\n",
       "message                   object\n",
       "has_emoji                   bool\n",
       "dtype: object"
      ]
     },
     "execution_count": 4,
     "metadata": {},
     "output_type": "execute_result"
    }
   ],
   "source": [
    "df = pd.read_parquet(datafile)\n",
    "df.dtypes"
   ]
  },
  {
   "cell_type": "code",
   "execution_count": 5,
   "metadata": {},
   "outputs": [
    {
     "data": {
      "text/html": [
       "<div>\n",
       "<style scoped>\n",
       "    .dataframe tbody tr th:only-of-type {\n",
       "        vertical-align: middle;\n",
       "    }\n",
       "\n",
       "    .dataframe tbody tr th {\n",
       "        vertical-align: top;\n",
       "    }\n",
       "\n",
       "    .dataframe thead th {\n",
       "        text-align: right;\n",
       "    }\n",
       "</style>\n",
       "<table border=\"1\" class=\"dataframe\">\n",
       "  <thead>\n",
       "    <tr style=\"text-align: right;\">\n",
       "      <th></th>\n",
       "      <th>timestamp</th>\n",
       "      <th>author</th>\n",
       "      <th>message</th>\n",
       "      <th>has_emoji</th>\n",
       "    </tr>\n",
       "  </thead>\n",
       "  <tbody>\n",
       "    <tr>\n",
       "      <th>0</th>\n",
       "      <td>2015-11-04 11:28:12+00:00</td>\n",
       "      <td>Phons Berkemeijer</td>\n",
       "      <td>‎Phons Berkemeijer heeft deze groep gemaakt</td>\n",
       "      <td>False</td>\n",
       "    </tr>\n",
       "    <tr>\n",
       "      <th>1</th>\n",
       "      <td>2016-11-15 00:34:50+00:00</td>\n",
       "      <td>MAAP</td>\n",
       "      <td>‎Phons Berkemeijer heeft je toegevoegd</td>\n",
       "      <td>False</td>\n",
       "    </tr>\n",
       "    <tr>\n",
       "      <th>2</th>\n",
       "      <td>2016-11-15 00:35:04+00:00</td>\n",
       "      <td>MAAP</td>\n",
       "      <td>‎Berichten en oproepen worden end-to-end versl...</td>\n",
       "      <td>False</td>\n",
       "    </tr>\n",
       "    <tr>\n",
       "      <th>3</th>\n",
       "      <td>2017-03-31 11:58:33+00:00</td>\n",
       "      <td>Phons Berkemeijer</td>\n",
       "      <td>‎Locatie: https://maps.google.com/?q=51.378368...</td>\n",
       "      <td>False</td>\n",
       "    </tr>\n",
       "    <tr>\n",
       "      <th>4</th>\n",
       "      <td>2018-05-01 21:31:07+00:00</td>\n",
       "      <td>Phons Berkemeijer</td>\n",
       "      <td>‎Dit bericht is verwijderd. ‎[13-05-2018, 15:0...</td>\n",
       "      <td>False</td>\n",
       "    </tr>\n",
       "  </tbody>\n",
       "</table>\n",
       "</div>"
      ],
      "text/plain": [
       "                  timestamp             author  \\\n",
       "0 2015-11-04 11:28:12+00:00  Phons Berkemeijer   \n",
       "1 2016-11-15 00:34:50+00:00               MAAP   \n",
       "2 2016-11-15 00:35:04+00:00               MAAP   \n",
       "3 2017-03-31 11:58:33+00:00  Phons Berkemeijer   \n",
       "4 2018-05-01 21:31:07+00:00  Phons Berkemeijer   \n",
       "\n",
       "                                             message  has_emoji  \n",
       "0        ‎Phons Berkemeijer heeft deze groep gemaakt      False  \n",
       "1             ‎Phons Berkemeijer heeft je toegevoegd      False  \n",
       "2  ‎Berichten en oproepen worden end-to-end versl...      False  \n",
       "3  ‎Locatie: https://maps.google.com/?q=51.378368...      False  \n",
       "4  ‎Dit bericht is verwijderd. ‎[13-05-2018, 15:0...      False  "
      ]
     },
     "execution_count": 5,
     "metadata": {},
     "output_type": "execute_result"
    }
   ],
   "source": [
    "df.head()"
   ]
  },
  {
   "cell_type": "markdown",
   "metadata": {},
   "source": [
    "Let's count the amount of messages, per author."
   ]
  },
  {
   "cell_type": "code",
   "execution_count": 6,
   "metadata": {},
   "outputs": [],
   "source": [
    "p1 = (\n",
    "    df[[\"author\", \"message\"]]\n",
    "    .groupby(\"author\")\n",
    "    .count()\n",
    "    .sort_values(\"message\", ascending=False)\n",
    ")\n",
    "\n",
    "k = 15\n",
    "topk = p1[:k]"
   ]
  },
  {
   "cell_type": "code",
   "execution_count": 7,
   "metadata": {},
   "outputs": [],
   "source": [
    "topk_authors = list(topk.index)"
   ]
  },
  {
   "cell_type": "code",
   "execution_count": 8,
   "metadata": {},
   "outputs": [
    {
     "data": {
      "text/html": [
       "<div>\n",
       "<style scoped>\n",
       "    .dataframe tbody tr th:only-of-type {\n",
       "        vertical-align: middle;\n",
       "    }\n",
       "\n",
       "    .dataframe tbody tr th {\n",
       "        vertical-align: top;\n",
       "    }\n",
       "\n",
       "    .dataframe thead th {\n",
       "        text-align: right;\n",
       "    }\n",
       "</style>\n",
       "<table border=\"1\" class=\"dataframe\">\n",
       "  <thead>\n",
       "    <tr style=\"text-align: right;\">\n",
       "      <th></th>\n",
       "      <th>timestamp</th>\n",
       "      <th>author</th>\n",
       "      <th>message</th>\n",
       "      <th>has_emoji</th>\n",
       "      <th>is_topk</th>\n",
       "    </tr>\n",
       "  </thead>\n",
       "  <tbody>\n",
       "    <tr>\n",
       "      <th>0</th>\n",
       "      <td>2015-11-04 11:28:12+00:00</td>\n",
       "      <td>Phons Berkemeijer</td>\n",
       "      <td>‎Phons Berkemeijer heeft deze groep gemaakt</td>\n",
       "      <td>False</td>\n",
       "      <td>True</td>\n",
       "    </tr>\n",
       "    <tr>\n",
       "      <th>1</th>\n",
       "      <td>2016-11-15 00:34:50+00:00</td>\n",
       "      <td>MAAP</td>\n",
       "      <td>‎Phons Berkemeijer heeft je toegevoegd</td>\n",
       "      <td>False</td>\n",
       "      <td>True</td>\n",
       "    </tr>\n",
       "    <tr>\n",
       "      <th>2</th>\n",
       "      <td>2016-11-15 00:35:04+00:00</td>\n",
       "      <td>MAAP</td>\n",
       "      <td>‎Berichten en oproepen worden end-to-end versl...</td>\n",
       "      <td>False</td>\n",
       "      <td>True</td>\n",
       "    </tr>\n",
       "    <tr>\n",
       "      <th>3</th>\n",
       "      <td>2017-03-31 11:58:33+00:00</td>\n",
       "      <td>Phons Berkemeijer</td>\n",
       "      <td>‎Locatie: https://maps.google.com/?q=51.378368...</td>\n",
       "      <td>False</td>\n",
       "      <td>True</td>\n",
       "    </tr>\n",
       "    <tr>\n",
       "      <th>4</th>\n",
       "      <td>2018-05-01 21:31:07+00:00</td>\n",
       "      <td>Phons Berkemeijer</td>\n",
       "      <td>‎Dit bericht is verwijderd. ‎[13-05-2018, 15:0...</td>\n",
       "      <td>False</td>\n",
       "      <td>True</td>\n",
       "    </tr>\n",
       "  </tbody>\n",
       "</table>\n",
       "</div>"
      ],
      "text/plain": [
       "                  timestamp             author  \\\n",
       "0 2015-11-04 11:28:12+00:00  Phons Berkemeijer   \n",
       "1 2016-11-15 00:34:50+00:00               MAAP   \n",
       "2 2016-11-15 00:35:04+00:00               MAAP   \n",
       "3 2017-03-31 11:58:33+00:00  Phons Berkemeijer   \n",
       "4 2018-05-01 21:31:07+00:00  Phons Berkemeijer   \n",
       "\n",
       "                                             message  has_emoji  is_topk  \n",
       "0        ‎Phons Berkemeijer heeft deze groep gemaakt      False     True  \n",
       "1             ‎Phons Berkemeijer heeft je toegevoegd      False     True  \n",
       "2  ‎Berichten en oproepen worden end-to-end versl...      False     True  \n",
       "3  ‎Locatie: https://maps.google.com/?q=51.378368...      False     True  \n",
       "4  ‎Dit bericht is verwijderd. ‎[13-05-2018, 15:0...      False     True  "
      ]
     },
     "execution_count": 8,
     "metadata": {},
     "output_type": "execute_result"
    }
   ],
   "source": [
    "df[\"is_topk\"] = df[\"author\"].apply(lambda x: x in topk_authors)\n",
    "df.head()"
   ]
  },
  {
   "cell_type": "code",
   "execution_count": 9,
   "metadata": {},
   "outputs": [
    {
     "data": {
      "text/plain": [
       "Text(0.5, 1.0, 'Sending the most messages...')"
      ]
     },
     "execution_count": 9,
     "metadata": {},
     "output_type": "execute_result"
    },
    {
     "data": {
      "image/png": "[encoded data removed]",
      "text/plain": [
       "<Figure size 1200x600 with 1 Axes>"
      ]
     },
     "metadata": {},
     "output_type": "display_data"
    }
   ],
   "source": [
    "plt.figure(figsize=(12, 6))\n",
    "sns.barplot(y=p1.index[:k], x=\"message\", data=topk)\n",
    "plt.xticks(rotation=90)\n",
    "plt.title(\"Sending the most messages...\")"
   ]
  },
  {
   "cell_type": "markdown",
   "metadata": {},
   "source": [
    "Maybe tweak the colors a bit"
   ]
  },
  {
   "cell_type": "code",
   "execution_count": 10,
   "metadata": {},
   "outputs": [
    {
     "data": {
      "text/plain": [
       "Text(0.5, 1.0, 'Sending the most messages...')"
      ]
     },
     "execution_count": 10,
     "metadata": {},
     "output_type": "execute_result"
    },
    {
     "data": {
      "image/png": "[encoded data removed]",
      "text/plain": [
       "<Figure size 640x480 with 1 Axes>"
      ]
     },
     "metadata": {},
     "output_type": "display_data"
    }
   ],
   "source": [
    "colors = [0 if x < 1000 else 1 for x in topk.message]\n",
    "custom_palette = {0: \"grey\", 1: \"red\"}\n",
    "sns.barplot(\n",
    "    y=p1.index[:k],\n",
    "    x=\"message\",\n",
    "    hue=colors,\n",
    "    data=topk,\n",
    "    palette=custom_palette,\n",
    "    legend=False,\n",
    ")\n",
    "plt.title(\"Sending the most messages...\")"
   ]
  },
  {
   "cell_type": "markdown",
   "metadata": {},
   "source": [
    "Let's calculate the average message length."
   ]
  },
  {
   "cell_type": "code",
   "execution_count": 12,
   "metadata": {},
   "outputs": [
    {
     "data": {
      "text/plain": [
       "Text(0.5, 1.0, 'Sending the longest messages...')"
      ]
     },
     "execution_count": 12,
     "metadata": {},
     "output_type": "execute_result"
    },
    {
     "data": {
      "image/png": "[encoded data removed]",
      "text/plain": [
       "<Figure size 640x480 with 1 Axes>"
      ]
     },
     "metadata": {},
     "output_type": "display_data"
    }
   ],
   "source": [
    "df[\"message_length\"] = df[\"message\"].str.len()\n",
    "\n",
    "# Exclude author \"MAAP\"\n",
    "filtered_df = df[df[\"author\"] != \"MAAP\"]\n",
    "\n",
    "# Proceed with the rest of the analysis\n",
    "p1 = (\n",
    "    filtered_df[[\"author\", \"message_length\"]]\n",
    "    .groupby(\"author\")\n",
    "    .mean()\n",
    "    .sort_values(\"message_length\", ascending=False)\n",
    ")\n",
    "k = 15\n",
    "topk = p1[:k]\n",
    "sns.barplot(y=p1.index[:k], x=\"message_length\", data=topk)\n",
    "plt.xlabel(\"Average message length\")\n",
    "plt.title(\"Sending the longest messages...\")"
   ]
  },
  {
   "cell_type": "markdown",
   "metadata": {},
   "source": [
    "Create a simple regex to look for links in the messages and add that as a feature:"
   ]
  },
  {
   "cell_type": "code",
   "execution_count": 13,
   "metadata": {},
   "outputs": [
    {
     "data": {
      "image/png": "[encoded data removed]",
      "text/plain": [
       "<Figure size 640x480 with 1 Axes>"
      ]
     },
     "metadata": {},
     "output_type": "display_data"
    }
   ],
   "source": [
    "has_link = r\"http\"\n",
    "df[\"has_link\"] = df[\"message\"].str.contains(has_link)\n",
    "if df[\"has_link\"].sum() > 0:\n",
    "    p1 = (\n",
    "        df[[\"author\", \"has_link\"]]\n",
    "        .groupby(\"author\")\n",
    "        .mean()\n",
    "        .sort_values(\"has_link\", ascending=False)\n",
    "    )\n",
    "\n",
    "    k = 15\n",
    "    topk = p1[:k]\n",
    "    sns.barplot(y=p1.index[:k], x=\"has_link\", data=topk)\n",
    "    plt.xlabel(\"Fraction of messages with a link\")\n",
    "    plt.title(\"Most links by...\")\n",
    "else:\n",
    "    logger.info(\"No links found in the messages\")"
   ]
  },
  {
   "cell_type": "markdown",
   "metadata": {},
   "source": [
    "Aggregate the emojis per user (can you change between sum and mean?)"
   ]
  },
  {
   "cell_type": "code",
   "execution_count": 14,
   "metadata": {},
   "outputs": [
    {
     "data": {
      "text/plain": [
       "Text(0.5, 1.0, \"Are emoji's non-verbal?\")"
      ]
     },
     "execution_count": 14,
     "metadata": {},
     "output_type": "execute_result"
    },
    {
     "data": {
      "image/png": "[encoded data removed]",
      "text/plain": [
       "<Figure size 640x480 with 1 Axes>"
      ]
     },
     "metadata": {},
     "output_type": "display_data"
    }
   ],
   "source": [
    "p2 = (\n",
    "    df[[\"author\", \"has_emoji\"]]\n",
    "    .groupby(\"author\")\n",
    "    .agg([\"sum\", \"mean\"])\n",
    "    .sort_values((\"has_emoji\", \"sum\"), ascending=False)\n",
    ")\n",
    "\n",
    "p2.columns = p2.columns.droplevel(0)\n",
    "topk = p2[:k]\n",
    "sns.barplot(y=p2.index[:k], x=\"mean\", data=topk)\n",
    "plt.xlabel(\"Average number of messages with an emoji\")\n",
    "plt.title(\"Are emoji's non-verbal?\")"
   ]
  },
  {
   "cell_type": "markdown",
   "metadata": {},
   "source": [
    "Let's add a cateory, based on the time when authors send a message:"
   ]
  },
  {
   "cell_type": "code",
   "execution_count": 15,
   "metadata": {},
   "outputs": [
    {
     "data": {
      "text/html": [
       "<div>\n",
       "<style scoped>\n",
       "    .dataframe tbody tr th:only-of-type {\n",
       "        vertical-align: middle;\n",
       "    }\n",
       "\n",
       "    .dataframe tbody tr th {\n",
       "        vertical-align: top;\n",
       "    }\n",
       "\n",
       "    .dataframe thead th {\n",
       "        text-align: right;\n",
       "    }\n",
       "</style>\n",
       "<table border=\"1\" class=\"dataframe\">\n",
       "  <thead>\n",
       "    <tr style=\"text-align: right;\">\n",
       "      <th></th>\n",
       "      <th>timestamp</th>\n",
       "      <th>author</th>\n",
       "      <th>message</th>\n",
       "      <th>has_emoji</th>\n",
       "      <th>is_topk</th>\n",
       "      <th>message_length</th>\n",
       "      <th>has_link</th>\n",
       "      <th>timestamp_category</th>\n",
       "    </tr>\n",
       "  </thead>\n",
       "  <tbody>\n",
       "    <tr>\n",
       "      <th>0</th>\n",
       "      <td>2015-11-04 11:28:12+00:00</td>\n",
       "      <td>Phons Berkemeijer</td>\n",
       "      <td>‎Phons Berkemeijer heeft deze groep gemaakt</td>\n",
       "      <td>False</td>\n",
       "      <td>True</td>\n",
       "      <td>43</td>\n",
       "      <td>False</td>\n",
       "      <td>worktimes</td>\n",
       "    </tr>\n",
       "    <tr>\n",
       "      <th>1</th>\n",
       "      <td>2016-11-15 00:34:50+00:00</td>\n",
       "      <td>MAAP</td>\n",
       "      <td>‎Phons Berkemeijer heeft je toegevoegd</td>\n",
       "      <td>False</td>\n",
       "      <td>True</td>\n",
       "      <td>38</td>\n",
       "      <td>False</td>\n",
       "      <td>night</td>\n",
       "    </tr>\n",
       "    <tr>\n",
       "      <th>2</th>\n",
       "      <td>2016-11-15 00:35:04+00:00</td>\n",
       "      <td>MAAP</td>\n",
       "      <td>‎Berichten en oproepen worden end-to-end versl...</td>\n",
       "      <td>False</td>\n",
       "      <td>True</td>\n",
       "      <td>893</td>\n",
       "      <td>False</td>\n",
       "      <td>night</td>\n",
       "    </tr>\n",
       "    <tr>\n",
       "      <th>3</th>\n",
       "      <td>2017-03-31 11:58:33+00:00</td>\n",
       "      <td>Phons Berkemeijer</td>\n",
       "      <td>‎Locatie: https://maps.google.com/?q=51.378368...</td>\n",
       "      <td>False</td>\n",
       "      <td>True</td>\n",
       "      <td>2972</td>\n",
       "      <td>True</td>\n",
       "      <td>worktimes</td>\n",
       "    </tr>\n",
       "    <tr>\n",
       "      <th>4</th>\n",
       "      <td>2018-05-01 21:31:07+00:00</td>\n",
       "      <td>Phons Berkemeijer</td>\n",
       "      <td>‎Dit bericht is verwijderd. ‎[13-05-2018, 15:0...</td>\n",
       "      <td>False</td>\n",
       "      <td>True</td>\n",
       "      <td>4997</td>\n",
       "      <td>False</td>\n",
       "      <td>evening</td>\n",
       "    </tr>\n",
       "    <tr>\n",
       "      <th>...</th>\n",
       "      <td>...</td>\n",
       "      <td>...</td>\n",
       "      <td>...</td>\n",
       "      <td>...</td>\n",
       "      <td>...</td>\n",
       "      <td>...</td>\n",
       "      <td>...</td>\n",
       "      <td>...</td>\n",
       "    </tr>\n",
       "    <tr>\n",
       "      <th>3885</th>\n",
       "      <td>2025-09-04 18:17:57+00:00</td>\n",
       "      <td>Anthony van Tilburg</td>\n",
       "      <td>Alleen moeten we dan voor Anja een zeecontaine...</td>\n",
       "      <td>True</td>\n",
       "      <td>True</td>\n",
       "      <td>57</td>\n",
       "      <td>False</td>\n",
       "      <td>evening</td>\n",
       "    </tr>\n",
       "    <tr>\n",
       "      <th>3886</th>\n",
       "      <td>2025-09-04 18:18:05+00:00</td>\n",
       "      <td>Phons Berkemeijer</td>\n",
       "      <td>😂😂</td>\n",
       "      <td>True</td>\n",
       "      <td>True</td>\n",
       "      <td>2</td>\n",
       "      <td>False</td>\n",
       "      <td>evening</td>\n",
       "    </tr>\n",
       "    <tr>\n",
       "      <th>3887</th>\n",
       "      <td>2025-09-04 18:19:11+00:00</td>\n",
       "      <td>Anja Berkemeijer</td>\n",
       "      <td>Ik koop daar wel</td>\n",
       "      <td>False</td>\n",
       "      <td>True</td>\n",
       "      <td>16</td>\n",
       "      <td>False</td>\n",
       "      <td>evening</td>\n",
       "    </tr>\n",
       "    <tr>\n",
       "      <th>3888</th>\n",
       "      <td>2025-09-04 18:19:23+00:00</td>\n",
       "      <td>Phons Berkemeijer</td>\n",
       "      <td>1 is wel krap dan</td>\n",
       "      <td>False</td>\n",
       "      <td>True</td>\n",
       "      <td>17</td>\n",
       "      <td>False</td>\n",
       "      <td>evening</td>\n",
       "    </tr>\n",
       "    <tr>\n",
       "      <th>3889</th>\n",
       "      <td>2025-09-04 18:42:01+00:00</td>\n",
       "      <td>Anthony van Tilburg</td>\n",
       "      <td>😂😂</td>\n",
       "      <td>True</td>\n",
       "      <td>True</td>\n",
       "      <td>2</td>\n",
       "      <td>False</td>\n",
       "      <td>evening</td>\n",
       "    </tr>\n",
       "  </tbody>\n",
       "</table>\n",
       "<p>3890 rows × 8 columns</p>\n",
       "</div>"
      ],
      "text/plain": [
       "                     timestamp               author  \\\n",
       "0    2015-11-04 11:28:12+00:00    Phons Berkemeijer   \n",
       "1    2016-11-15 00:34:50+00:00                 MAAP   \n",
       "2    2016-11-15 00:35:04+00:00                 MAAP   \n",
       "3    2017-03-31 11:58:33+00:00    Phons Berkemeijer   \n",
       "4    2018-05-01 21:31:07+00:00    Phons Berkemeijer   \n",
       "...                        ...                  ...   \n",
       "3885 2025-09-04 18:17:57+00:00  Anthony van Tilburg   \n",
       "3886 2025-09-04 18:18:05+00:00    Phons Berkemeijer   \n",
       "3887 2025-09-04 18:19:11+00:00     Anja Berkemeijer   \n",
       "3888 2025-09-04 18:19:23+00:00    Phons Berkemeijer   \n",
       "3889 2025-09-04 18:42:01+00:00  Anthony van Tilburg   \n",
       "\n",
       "                                                message  has_emoji  is_topk  \\\n",
       "0           ‎Phons Berkemeijer heeft deze groep gemaakt      False     True   \n",
       "1                ‎Phons Berkemeijer heeft je toegevoegd      False     True   \n",
       "2     ‎Berichten en oproepen worden end-to-end versl...      False     True   \n",
       "3     ‎Locatie: https://maps.google.com/?q=51.378368...      False     True   \n",
       "4     ‎Dit bericht is verwijderd. ‎[13-05-2018, 15:0...      False     True   \n",
       "...                                                 ...        ...      ...   \n",
       "3885  Alleen moeten we dan voor Anja een zeecontaine...       True     True   \n",
       "3886                                                 😂😂       True     True   \n",
       "3887                                   Ik koop daar wel      False     True   \n",
       "3888                                  1 is wel krap dan      False     True   \n",
       "3889                                                 😂😂       True     True   \n",
       "\n",
       "      message_length  has_link timestamp_category  \n",
       "0                 43     False          worktimes  \n",
       "1                 38     False              night  \n",
       "2                893     False              night  \n",
       "3               2972      True          worktimes  \n",
       "4               4997     False            evening  \n",
       "...              ...       ...                ...  \n",
       "3885              57     False            evening  \n",
       "3886               2     False            evening  \n",
       "3887              16     False            evening  \n",
       "3888              17     False            evening  \n",
       "3889               2     False            evening  \n",
       "\n",
       "[3890 rows x 8 columns]"
      ]
     },
     "execution_count": 15,
     "metadata": {},
     "output_type": "execute_result"
    }
   ],
   "source": [
    "import pandas as pd\n",
    "\n",
    "# Define the time ranges\n",
    "time_ranges = [\"00:00\", \"06:00\", \"08:00\", \"17:30\", \"22:00\", \"23:59\"]\n",
    "# Define the category labels\n",
    "categories = [\"night\", \"morning\", \"worktimes\", \"evening\", \"late\"]\n",
    "# Categorize the timestamp column\n",
    "df[\"timestamp_category\"] = pd.cut(\n",
    "    df[\"timestamp\"].dt.time.astype(str),\n",
    "    bins=time_ranges,\n",
    "    labels=categories,\n",
    "    right=False,\n",
    ")\n",
    "# Display the updated dataframe\n",
    "df"
   ]
  },
  {
   "cell_type": "markdown",
   "metadata": {},
   "source": [
    "Now we can group and count the categories:"
   ]
  },
  {
   "cell_type": "code",
   "execution_count": 16,
   "metadata": {},
   "outputs": [
    {
     "data": {
      "text/html": [
       "<div>\n",
       "<style scoped>\n",
       "    .dataframe tbody tr th:only-of-type {\n",
       "        vertical-align: middle;\n",
       "    }\n",
       "\n",
       "    .dataframe tbody tr th {\n",
       "        vertical-align: top;\n",
       "    }\n",
       "\n",
       "    .dataframe thead th {\n",
       "        text-align: right;\n",
       "    }\n",
       "</style>\n",
       "<table border=\"1\" class=\"dataframe\">\n",
       "  <thead>\n",
       "    <tr style=\"text-align: right;\">\n",
       "      <th>timestamp_category</th>\n",
       "      <th>night</th>\n",
       "      <th>morning</th>\n",
       "      <th>worktimes</th>\n",
       "      <th>evening</th>\n",
       "      <th>late</th>\n",
       "    </tr>\n",
       "    <tr>\n",
       "      <th>author</th>\n",
       "      <th></th>\n",
       "      <th></th>\n",
       "      <th></th>\n",
       "      <th></th>\n",
       "      <th></th>\n",
       "    </tr>\n",
       "  </thead>\n",
       "  <tbody>\n",
       "    <tr>\n",
       "      <th>Anja Berkemeijer</th>\n",
       "      <td>0.025274</td>\n",
       "      <td>0.005897</td>\n",
       "      <td>0.500421</td>\n",
       "      <td>0.342881</td>\n",
       "      <td>0.125527</td>\n",
       "    </tr>\n",
       "    <tr>\n",
       "      <th>Anthony van Tilburg</th>\n",
       "      <td>0.019608</td>\n",
       "      <td>0.002801</td>\n",
       "      <td>0.456583</td>\n",
       "      <td>0.338936</td>\n",
       "      <td>0.182073</td>\n",
       "    </tr>\n",
       "    <tr>\n",
       "      <th>MAAP</th>\n",
       "      <td>1.000000</td>\n",
       "      <td>0.000000</td>\n",
       "      <td>0.000000</td>\n",
       "      <td>0.000000</td>\n",
       "      <td>0.000000</td>\n",
       "    </tr>\n",
       "    <tr>\n",
       "      <th>Madeleine</th>\n",
       "      <td>0.028309</td>\n",
       "      <td>0.009946</td>\n",
       "      <td>0.539403</td>\n",
       "      <td>0.316756</td>\n",
       "      <td>0.105585</td>\n",
       "    </tr>\n",
       "    <tr>\n",
       "      <th>Phons Berkemeijer</th>\n",
       "      <td>0.034816</td>\n",
       "      <td>0.004836</td>\n",
       "      <td>0.544487</td>\n",
       "      <td>0.307544</td>\n",
       "      <td>0.108317</td>\n",
       "    </tr>\n",
       "  </tbody>\n",
       "</table>\n",
       "</div>"
      ],
      "text/plain": [
       "timestamp_category      night   morning  worktimes   evening      late\n",
       "author                                                                \n",
       "Anja Berkemeijer     0.025274  0.005897   0.500421  0.342881  0.125527\n",
       "Anthony van Tilburg  0.019608  0.002801   0.456583  0.338936  0.182073\n",
       "MAAP                 1.000000  0.000000   0.000000  0.000000  0.000000\n",
       "Madeleine            0.028309  0.009946   0.539403  0.316756  0.105585\n",
       "Phons Berkemeijer    0.034816  0.004836   0.544487  0.307544  0.108317"
      ]
     },
     "execution_count": 16,
     "metadata": {},
     "output_type": "execute_result"
    }
   ],
   "source": [
    "# Group the dataframe by 'author' and 'timestamp_category', and count the occurrences\n",
    "p3 = df.groupby([\"author\", \"timestamp_category\"]).size().unstack()\n",
    "\n",
    "# Calculate the fraction of each category for every author\n",
    "p3_frac = p3.div(p3.sum(axis=1), axis=0)\n",
    "p3_frac\n"
   ]
  },
  {
   "cell_type": "markdown",
   "metadata": {},
   "source": [
    "Let's use plotly the create a stacked bar chart:"
   ]
  },
  {
   "cell_type": "code",
   "execution_count": 17,
   "metadata": {},
   "outputs": [
    {
     "data": {
      "text/html": [
       "<div>\n",
       "<style scoped>\n",
       "    .dataframe tbody tr th:only-of-type {\n",
       "        vertical-align: middle;\n",
       "    }\n",
       "\n",
       "    .dataframe tbody tr th {\n",
       "        vertical-align: top;\n",
       "    }\n",
       "\n",
       "    .dataframe thead th {\n",
       "        text-align: right;\n",
       "    }\n",
       "</style>\n",
       "<table border=\"1\" class=\"dataframe\">\n",
       "  <thead>\n",
       "    <tr style=\"text-align: right;\">\n",
       "      <th></th>\n",
       "      <th>author</th>\n",
       "      <th>timestamp_category</th>\n",
       "      <th>value</th>\n",
       "    </tr>\n",
       "  </thead>\n",
       "  <tbody>\n",
       "    <tr>\n",
       "      <th>0</th>\n",
       "      <td>Anja Berkemeijer</td>\n",
       "      <td>night</td>\n",
       "      <td>0.025274</td>\n",
       "    </tr>\n",
       "    <tr>\n",
       "      <th>1</th>\n",
       "      <td>Anthony van Tilburg</td>\n",
       "      <td>night</td>\n",
       "      <td>0.019608</td>\n",
       "    </tr>\n",
       "    <tr>\n",
       "      <th>2</th>\n",
       "      <td>MAAP</td>\n",
       "      <td>night</td>\n",
       "      <td>1.000000</td>\n",
       "    </tr>\n",
       "    <tr>\n",
       "      <th>3</th>\n",
       "      <td>Madeleine</td>\n",
       "      <td>night</td>\n",
       "      <td>0.028309</td>\n",
       "    </tr>\n",
       "    <tr>\n",
       "      <th>4</th>\n",
       "      <td>Phons Berkemeijer</td>\n",
       "      <td>night</td>\n",
       "      <td>0.034816</td>\n",
       "    </tr>\n",
       "  </tbody>\n",
       "</table>\n",
       "</div>"
      ],
      "text/plain": [
       "                author timestamp_category     value\n",
       "0     Anja Berkemeijer              night  0.025274\n",
       "1  Anthony van Tilburg              night  0.019608\n",
       "2                 MAAP              night  1.000000\n",
       "3            Madeleine              night  0.028309\n",
       "4    Phons Berkemeijer              night  0.034816"
      ]
     },
     "execution_count": 17,
     "metadata": {},
     "output_type": "execute_result"
    }
   ],
   "source": [
    "p4 = p3_frac.reset_index().melt(id_vars=\"author\")\n",
    "p4.head()"
   ]
  },
  {
   "cell_type": "code",
   "execution_count": 18,
   "metadata": {},
   "outputs": [],
   "source": [
    "p4_filtered = p4[p4[\"author\"].isin(topk_authors)]"
   ]
  },
  {
   "cell_type": "code",
   "execution_count": 22,
   "metadata": {},
   "outputs": [
    {
     "ename": "ValueError",
     "evalue": "Mime type rendering requires nbformat>=4.2.0 but it is not installed",
     "output_type": "error",
     "traceback": [
      "\u001b[31m---------------------------------------------------------------------------\u001b[39m",
      "\u001b[31mValueError\u001b[39m                                Traceback (most recent call last)",
      "\u001b[36mCell\u001b[39m\u001b[36m \u001b[39m\u001b[32mIn[22]\u001b[39m\u001b[32m, line 6\u001b[39m\n\u001b[32m      1\u001b[39m \u001b[38;5;28;01mimport\u001b[39;00m\u001b[38;5;250m \u001b[39m\u001b[34;01mplotly\u001b[39;00m\u001b[34;01m.\u001b[39;00m\u001b[34;01mexpress\u001b[39;00m\u001b[38;5;250m \u001b[39m\u001b[38;5;28;01mas\u001b[39;00m\u001b[38;5;250m \u001b[39m\u001b[34;01mpx\u001b[39;00m\n\u001b[32m      3\u001b[39m fig = px.bar(\n\u001b[32m      4\u001b[39m     p4_filtered, y=\u001b[33m\"\u001b[39m\u001b[33mauthor\u001b[39m\u001b[33m\"\u001b[39m, x=\u001b[33m\"\u001b[39m\u001b[33mvalue\u001b[39m\u001b[33m\"\u001b[39m, color=\u001b[33m\"\u001b[39m\u001b[33mtimestamp_category\u001b[39m\u001b[33m\"\u001b[39m, barmode=\u001b[33m\"\u001b[39m\u001b[33mstack\u001b[39m\u001b[33m\"\u001b[39m\n\u001b[32m      5\u001b[39m )\n\u001b[32m----> \u001b[39m\u001b[32m6\u001b[39m \u001b[43mfig\u001b[49m\u001b[43m.\u001b[49m\u001b[43mshow\u001b[49m\u001b[43m(\u001b[49m\u001b[43m)\u001b[49m\n",
      "\u001b[36mFile \u001b[39m\u001b[32mc:\\Users\\avtnl\\Documents\\HU\\Data Analytics\\My_Project\\.venv\\Lib\\site-packages\\plotly\\basedatatypes.py:3420\u001b[39m, in \u001b[36mBaseFigure.show\u001b[39m\u001b[34m(self, *args, **kwargs)\u001b[39m\n\u001b[32m   3387\u001b[39m \u001b[38;5;250m\u001b[39m\u001b[33;03m\"\"\"\u001b[39;00m\n\u001b[32m   3388\u001b[39m \u001b[33;03mShow a figure using either the default renderer(s) or the renderer(s)\u001b[39;00m\n\u001b[32m   3389\u001b[39m \u001b[33;03mspecified by the renderer argument\u001b[39;00m\n\u001b[32m   (...)\u001b[39m\u001b[32m   3416\u001b[39m \u001b[33;03mNone\u001b[39;00m\n\u001b[32m   3417\u001b[39m \u001b[33;03m\"\"\"\u001b[39;00m\n\u001b[32m   3418\u001b[39m \u001b[38;5;28;01mimport\u001b[39;00m\u001b[38;5;250m \u001b[39m\u001b[34;01mplotly\u001b[39;00m\u001b[34;01m.\u001b[39;00m\u001b[34;01mio\u001b[39;00m\u001b[38;5;250m \u001b[39m\u001b[38;5;28;01mas\u001b[39;00m\u001b[38;5;250m \u001b[39m\u001b[34;01mpio\u001b[39;00m\n\u001b[32m-> \u001b[39m\u001b[32m3420\u001b[39m \u001b[38;5;28;01mreturn\u001b[39;00m \u001b[43mpio\u001b[49m\u001b[43m.\u001b[49m\u001b[43mshow\u001b[49m\u001b[43m(\u001b[49m\u001b[38;5;28;43mself\u001b[39;49m\u001b[43m,\u001b[49m\u001b[43m \u001b[49m\u001b[43m*\u001b[49m\u001b[43margs\u001b[49m\u001b[43m,\u001b[49m\u001b[43m \u001b[49m\u001b[43m*\u001b[49m\u001b[43m*\u001b[49m\u001b[43mkwargs\u001b[49m\u001b[43m)\u001b[49m\n",
      "\u001b[36mFile \u001b[39m\u001b[32mc:\\Users\\avtnl\\Documents\\HU\\Data Analytics\\My_Project\\.venv\\Lib\\site-packages\\plotly\\io\\_renderers.py:415\u001b[39m, in \u001b[36mshow\u001b[39m\u001b[34m(fig, renderer, validate, **kwargs)\u001b[39m\n\u001b[32m    410\u001b[39m     \u001b[38;5;28;01mraise\u001b[39;00m \u001b[38;5;167;01mValueError\u001b[39;00m(\n\u001b[32m    411\u001b[39m         \u001b[33m\"\u001b[39m\u001b[33mMime type rendering requires ipython but it is not installed\u001b[39m\u001b[33m\"\u001b[39m\n\u001b[32m    412\u001b[39m     )\n\u001b[32m    414\u001b[39m \u001b[38;5;28;01mif\u001b[39;00m \u001b[38;5;129;01mnot\u001b[39;00m nbformat \u001b[38;5;129;01mor\u001b[39;00m Version(nbformat.__version__) < Version(\u001b[33m\"\u001b[39m\u001b[33m4.2.0\u001b[39m\u001b[33m\"\u001b[39m):\n\u001b[32m--> \u001b[39m\u001b[32m415\u001b[39m     \u001b[38;5;28;01mraise\u001b[39;00m \u001b[38;5;167;01mValueError\u001b[39;00m(\n\u001b[32m    416\u001b[39m         \u001b[33m\"\u001b[39m\u001b[33mMime type rendering requires nbformat>=4.2.0 but it is not installed\u001b[39m\u001b[33m\"\u001b[39m\n\u001b[32m    417\u001b[39m     )\n\u001b[32m    419\u001b[39m display_jupyter_version_warnings()\n\u001b[32m    421\u001b[39m ipython_display.display(bundle, raw=\u001b[38;5;28;01mTrue\u001b[39;00m)\n",
      "\u001b[31mValueError\u001b[39m: Mime type rendering requires nbformat>=4.2.0 but it is not installed"
     ]
    }
   ],
   "source": [
    "import plotly.express as px\n",
    "\n",
    "fig = px.bar(\n",
    "    p4_filtered, y=\"author\", x=\"value\", color=\"timestamp_category\", barmode=\"stack\"\n",
    ")\n",
    "fig.show()"
   ]
  },
  {
   "cell_type": "markdown",
   "metadata": {},
   "source": [
    "Let's extract the minimum and maximum time of the messages for every author, and convert that to a decimal fraction:"
   ]
  },
  {
   "cell_type": "code",
   "execution_count": null,
   "metadata": {},
   "outputs": [],
   "source": [
    "df[\"hour\"] = df[\"timestamp\"].dt.time\n",
    "summary_df = df.groupby(\"author\")[\"hour\"].agg([\"min\", \"max\"]).reset_index()\n",
    "\n",
    "\n",
    "def convert_to_decimal_hours(timestamp):\n",
    "    dec_hour = timestamp.hour + timestamp.minute / 60 + timestamp.second / 3600\n",
    "    return dec_hour\n",
    "\n",
    "\n",
    "summary_df[\"min_x_values\"] = summary_df[\"min\"].apply(convert_to_decimal_hours)\n",
    "summary_df[\"max_x_values\"] = summary_df[\"max\"].apply(convert_to_decimal_hours)\n",
    "\n",
    "# Drop the original 'min' and 'max' columns as they are no longer needed\n",
    "summary_df = summary_df.drop([\"min\", \"max\"], axis=1)\n",
    "summary_df.head()"
   ]
  },
  {
   "cell_type": "markdown",
   "metadata": {},
   "source": [
    "With this, we can create a nice barbell chart. Try to add colors for your own chart!"
   ]
  },
  {
   "cell_type": "code",
   "execution_count": null,
   "metadata": {},
   "outputs": [],
   "source": [
    "# Create a larger plot\n",
    "plt.figure(figsize=(10, 8))\n",
    "\n",
    "# Create scatter plots\n",
    "sns.scatterplot(data=summary_df, x=\"min_x_values\", y=\"author\", color=\"grey\")\n",
    "sns.scatterplot(data=summary_df, x=\"max_x_values\", y=\"author\", color=\"grey\")\n",
    "\n",
    "# Add lines\n",
    "for index, row in summary_df.iterrows():\n",
    "    plt.plot(\n",
    "        [row[\"min_x_values\"], row[\"max_x_values\"]],\n",
    "        [row[\"author\"], row[\"author\"]],\n",
    "        color=\"grey\",\n",
    "    )\n",
    "\n",
    "\n",
    "# Adjust the font size of the y-axis labels if needed\n",
    "plt.yticks(fontsize=10)\n",
    "\n",
    "# Show the plot\n",
    "plt.show()"
   ]
  },
  {
   "cell_type": "markdown",
   "metadata": {},
   "source": [
    "Another approach for comparing is to create a heatmap:"
   ]
  },
  {
   "cell_type": "code",
   "execution_count": null,
   "metadata": {},
   "outputs": [],
   "source": [
    "df[\"day_of_week\"] = df[\"timestamp\"].dt.dayofweek\n",
    "author_day_counts = df.groupby([\"author\", \"day_of_week\"]).size().unstack(fill_value=0)\n",
    "author_day_percentages = author_day_counts.div(author_day_counts.sum(axis=1), axis=0)\n",
    "\n",
    "\n",
    "filtered = author_day_percentages.loc[topk_authors]\n",
    "sns.heatmap(filtered, annot=True, fmt=\".2f\", linewidths=0.5, cmap=\"vlag\")\n",
    "plt.xticks(\n",
    "    ticks=range(7),\n",
    "    labels=[\n",
    "        \"Monday\",\n",
    "        \"Tuesday\",\n",
    "        \"Wednesday\",\n",
    "        \"Thursday\",\n",
    "        \"Friday\",\n",
    "        \"Saturday\",\n",
    "        \"Sunday\",\n",
    "    ],\n",
    "    rotation=45,\n",
    ")\n",
    "plt.title(\"Heatmap\")"
   ]
  },
  {
   "cell_type": "markdown",
   "metadata": {},
   "source": [
    "Let's save all the new features we added:"
   ]
  },
  {
   "cell_type": "code",
   "execution_count": null,
   "metadata": {},
   "outputs": [],
   "source": [
    "datafile"
   ]
  },
  {
   "cell_type": "code",
   "execution_count": null,
   "metadata": {},
   "outputs": [],
   "source": [
    "df.to_parquet(datafile, index=False)"
   ]
  }
 ],
 "metadata": {
  "kernelspec": {
   "display_name": ".venv",
   "language": "python",
   "name": "python3"
  },
  "language_info": {
   "codemirror_mode": {
    "name": "ipython",
    "version": 3
   },
   "file_extension": ".py",
   "mimetype": "text/x-python",
   "name": "python",
   "nbconvert_exporter": "python",
   "pygments_lexer": "ipython3",
   "version": "3.12.11"
  }
 },
 "nbformat": 4,
 "nbformat_minor": 2
}
