{
 "cells": [
  {
   "cell_type": "code",
   "execution_count": 53,
   "metadata": {},
   "outputs": [],
   "source": [
    "import seaborn as sns\n",
    "import matplotlib.pyplot as plt\n",
    "import pandas as pd\n",
    "from pathlib import Path\n",
    "from loguru import logger\n",
    "import warnings\n",
    "\n",
    "warnings.simplefilter(action=\"ignore\", category=FutureWarning)"
   ]
  },
  {
   "cell_type": "markdown",
   "metadata": {},
   "source": [
    "Let's load the parquetfile we saved in notebook 1. You will need to change the filename in the config file!"
   ]
  },
  {
   "cell_type": "code",
   "execution_count": 54,
   "metadata": {},
   "outputs": [
    {
     "data": {
      "text/plain": [
       "{'raw': 'data/raw',\n",
       " 'processed': 'data/processed',\n",
       " 'input': '_chat.txt',\n",
       " 'current': 'whatsapp-20250910-002822-maap-cleaned.parq',\n",
       " 'current_1': 'whatsapp-20250910-004727-golf-cleaned.parq',\n",
       " 'current_2': 'whatsapp-20250910-012654-voorganger-golf-cleaned.parq',\n",
       " 'inputpath': 'whatsapp-20250910-001356-maap.csv',\n",
       " 'datetime_format': '%d-%m-%Y, %H:%M:%S',\n",
       " 'drop_authors': []}"
      ]
     },
     "execution_count": 54,
     "metadata": {},
     "output_type": "execute_result"
    }
   ],
   "source": [
    "import tomllib\n",
    "\n",
    "configfile = Path(\"../config.toml\").resolve()\n",
    "with configfile.open(\"rb\") as f:\n",
    "    config = tomllib.load(f)\n",
    "config"
   ]
  },
  {
   "cell_type": "code",
   "execution_count": 55,
   "metadata": {},
   "outputs": [],
   "source": [
    "root = Path(\"..\").resolve()\n",
    "processed = root / Path(config[\"processed\"])\n",
    "datafile = processed / config[\"current\"]\n",
    "if not datafile.exists():\n",
    "    logger.warning(\n",
    "        f\"{datafile} does not exist. First run src/preprocess.py, and check the timestamp!\"\n",
    "    )"
   ]
  },
  {
   "cell_type": "markdown",
   "metadata": {},
   "source": [
    "Note how datatypes have been preserved."
   ]
  },
  {
   "cell_type": "code",
   "execution_count": 56,
   "metadata": {},
   "outputs": [
    {
     "data": {
      "text/plain": [
       "timestamp    datetime64[ns, UTC]\n",
       "author                    object\n",
       "message                   object\n",
       "has_emoji                   bool\n",
       "dtype: object"
      ]
     },
     "execution_count": 56,
     "metadata": {},
     "output_type": "execute_result"
    }
   ],
   "source": [
    "df = pd.read_parquet(datafile)\n",
    "df.dtypes"
   ]
  },
  {
   "cell_type": "code",
   "execution_count": 57,
   "metadata": {},
   "outputs": [
    {
     "data": {
      "text/html": [
       "<div>\n",
       "<style scoped>\n",
       "    .dataframe tbody tr th:only-of-type {\n",
       "        vertical-align: middle;\n",
       "    }\n",
       "\n",
       "    .dataframe tbody tr th {\n",
       "        vertical-align: top;\n",
       "    }\n",
       "\n",
       "    .dataframe thead th {\n",
       "        text-align: right;\n",
       "    }\n",
       "</style>\n",
       "<table border=\"1\" class=\"dataframe\">\n",
       "  <thead>\n",
       "    <tr style=\"text-align: right;\">\n",
       "      <th></th>\n",
       "      <th>timestamp</th>\n",
       "      <th>author</th>\n",
       "      <th>message</th>\n",
       "      <th>has_emoji</th>\n",
       "    </tr>\n",
       "  </thead>\n",
       "  <tbody>\n",
       "    <tr>\n",
       "      <th>0</th>\n",
       "      <td>2015-11-04 11:28:12+00:00</td>\n",
       "      <td>Phons Berkemeijer</td>\n",
       "      <td>‎Phons Berkemeijer heeft deze groep gemaakt</td>\n",
       "      <td>False</td>\n",
       "    </tr>\n",
       "    <tr>\n",
       "      <th>1</th>\n",
       "      <td>2016-11-15 00:34:50+00:00</td>\n",
       "      <td>MAAP</td>\n",
       "      <td>‎Phons Berkemeijer heeft je toegevoegd</td>\n",
       "      <td>False</td>\n",
       "    </tr>\n",
       "    <tr>\n",
       "      <th>2</th>\n",
       "      <td>2016-11-15 00:35:04+00:00</td>\n",
       "      <td>MAAP</td>\n",
       "      <td>‎Berichten en oproepen worden end-to-end versl...</td>\n",
       "      <td>False</td>\n",
       "    </tr>\n",
       "    <tr>\n",
       "      <th>3</th>\n",
       "      <td>2017-03-31 11:58:33+00:00</td>\n",
       "      <td>Phons Berkemeijer</td>\n",
       "      <td>‎Locatie: https://maps.google.com/?q=51.378368...</td>\n",
       "      <td>False</td>\n",
       "    </tr>\n",
       "    <tr>\n",
       "      <th>4</th>\n",
       "      <td>2018-05-01 21:31:07+00:00</td>\n",
       "      <td>Phons Berkemeijer</td>\n",
       "      <td>‎Dit bericht is verwijderd. ‎[13-05-2018, 15:0...</td>\n",
       "      <td>False</td>\n",
       "    </tr>\n",
       "  </tbody>\n",
       "</table>\n",
       "</div>"
      ],
      "text/plain": [
       "                  timestamp             author  \\\n",
       "0 2015-11-04 11:28:12+00:00  Phons Berkemeijer   \n",
       "1 2016-11-15 00:34:50+00:00               MAAP   \n",
       "2 2016-11-15 00:35:04+00:00               MAAP   \n",
       "3 2017-03-31 11:58:33+00:00  Phons Berkemeijer   \n",
       "4 2018-05-01 21:31:07+00:00  Phons Berkemeijer   \n",
       "\n",
       "                                             message  has_emoji  \n",
       "0        ‎Phons Berkemeijer heeft deze groep gemaakt      False  \n",
       "1             ‎Phons Berkemeijer heeft je toegevoegd      False  \n",
       "2  ‎Berichten en oproepen worden end-to-end versl...      False  \n",
       "3  ‎Locatie: https://maps.google.com/?q=51.378368...      False  \n",
       "4  ‎Dit bericht is verwijderd. ‎[13-05-2018, 15:0...      False  "
      ]
     },
     "execution_count": 57,
     "metadata": {},
     "output_type": "execute_result"
    }
   ],
   "source": [
    "df.head()"
   ]
  },
  {
   "cell_type": "code",
   "execution_count": 102,
   "metadata": {},
   "outputs": [
    {
     "name": "stdout",
     "output_type": "stream",
     "text": [
      "Summary: Number of Days per Category per Year\n",
      "volume_category  some  more  intense  crazy\n",
      "year                                       \n",
      "2019               22    12        2      3\n",
      "2020               28    36       14     12\n",
      "2021               39    22       23     10\n",
      "2022               23    23        8      4\n",
      "2023               43    26        9      2\n",
      "2024               41    24       16      5\n",
      "2025               29    18       10      3\n"
     ]
    }
   ],
   "source": [
    "import pandas as pd\n",
    "\n",
    "# Filter out \"MAAP\"\n",
    "df = df.loc[df[\"author\"] != \"MAAP\"]\n",
    "df = df.reset_index(drop=True)# Convert timestamp to datetime if it's not already\n",
    "\n",
    "import pandas as pd\n",
    "\n",
    "# Ensure timestamp is datetime\n",
    "df[\"timestamp\"] = pd.to_datetime(df[\"timestamp\"])\n",
    "\n",
    "# Extract date\n",
    "df[\"date\"] = df[\"timestamp\"].dt.date\n",
    "\n",
    "# Step 1: Count messages per day\n",
    "daily_counts = df.groupby(\"date\").size().reset_index(name=\"message_count\")\n",
    "\n",
    "# Step 2: Add year column\n",
    "daily_counts[\"year\"] = pd.to_datetime(daily_counts[\"date\"]).dt.year\n",
    "\n",
    "# Step 3: Define frequency buckets and labels\n",
    "freq_ranges = [0, 5, 10, 20, float(\"inf\")]\n",
    "categories = [\"some\", \"more\", \"intense\", \"crazy\"]\n",
    "\n",
    "# Step 4: Categorize message volume\n",
    "daily_counts[\"volume_category\"] = pd.cut(\n",
    "    daily_counts[\"message_count\"],\n",
    "    bins=freq_ranges,\n",
    "    labels=categories,\n",
    "    right=False\n",
    ")\n",
    "\n",
    "# Step 5: Count number of days per category per year\n",
    "summary = (\n",
    "    daily_counts.groupby([\"year\", \"volume_category\"])\n",
    "    .size()\n",
    "    .reset_index(name=\"day_count\")\n",
    "    .pivot(index=\"year\", columns=\"volume_category\", values=\"day_count\")\n",
    "    .fillna(0)\n",
    "    .astype(int)\n",
    ")\n",
    "\n",
    "# Step 6: Reindex to include all years from 2015 to 2025\n",
    "all_years = pd.Index(range(2019, 2026), name=\"year\")\n",
    "summary = summary.reindex(all_years, fill_value=0)\n",
    "\n",
    "# Step 7: Print summary\n",
    "print(\"Summary: Number of Days per Category per Year\")\n",
    "print(summary)\n",
    "\n",
    "# Step 1: Filter for \"crazy\" days only\n",
    "crazy_days_all = daily_counts[daily_counts[\"volume_category\"] == \"crazy\"].copy()\n",
    "\n",
    "# Step 2: Get all messages on those dates\n",
    "crazy_dates = crazy_days_all[\"date\"].unique()\n",
    "crazy_messages = df[df[\"date\"].isin(crazy_dates)]\n",
    "\n",
    "# Step 3: Count messages per author per date\n",
    "author_counts = (\n",
    "    crazy_messages.groupby([\"date\", \"author\"])\n",
    "    .size()\n",
    "    .reset_index(name=\"author_message_count\")\n",
    ")\n",
    "\n",
    "# Step 4: Pivot so each author becomes a column\n",
    "author_pivot = author_counts.pivot(index=\"date\", columns=\"author\", values=\"author_message_count\").fillna(0).astype(int)\n",
    "\n",
    "# Step 5: Merge with crazy_days_all\n",
    "crazy_days_enriched = crazy_days_all.merge(author_pivot, on=\"date\", how=\"left\")\n",
    "\n",
    "# Step 6: Save to CSV\n",
    "crazy_days_enriched.sort_values([\"year\", \"date\"]).to_csv(\n",
    "    r\"c:\\Users\\avtnl\\Documents\\HU\\Data Analytics\\My_Project\\crazy_days_by_year_enriched.csv\",\n",
    "    index=False\n",
    ")\n",
    "\n"
   ]
  },
  {
   "cell_type": "markdown",
   "metadata": {},
   "source": [
    "Let's count the amount of messages, per author."
   ]
  },
  {
   "cell_type": "code",
   "execution_count": 103,
   "metadata": {},
   "outputs": [
    {
     "name": "stdout",
     "output_type": "stream",
     "text": [
      "📊 Days with Zero Participation by Anthony van Tilburg\n",
      "      some-AvT  more-AvT  intense-AvT  crazy-AvT\n",
      "year                                            \n",
      "2019        19         8            2          2\n",
      "2020        24        19            6          5\n",
      "2021        33        14           15          4\n",
      "2022        18        15            4          2\n",
      "2023        32        11            4          1\n",
      "2024        37        10            9          3\n",
      "2025        22         6            2          1\n"
     ]
    }
   ],
   "source": [
    "# Step 1: Get all messages by Anthony\n",
    "df[\"date\"] = df[\"timestamp\"].dt.date\n",
    "anthony_msgs = df[df[\"author\"] == \"Anthony van Tilburg\"]\n",
    "\n",
    "# Step 2: Count Anthony's messages per day\n",
    "anthony_counts = anthony_msgs.groupby(\"date\").size().reset_index(name=\"anthony_count\")\n",
    "\n",
    "# Step 3: Merge with daily_counts\n",
    "daily_counts = daily_counts.merge(anthony_counts, on=\"date\", how=\"left\")\n",
    "daily_counts[\"anthony_count\"] = daily_counts[\"anthony_count\"].fillna(0).astype(int)\n",
    "\n",
    "# Step 4: Create flags for zero participation\n",
    "daily_counts[\"anthony_zero\"] = daily_counts[\"anthony_count\"] == 0\n",
    "\n",
    "# Step 5: Count zero-participation days per category per year\n",
    "zero_summary = (\n",
    "    daily_counts[daily_counts[\"anthony_zero\"]]\n",
    "    .groupby([\"year\", \"volume_category\"])\n",
    "    .size()\n",
    "    .reset_index(name=\"zero_days\")\n",
    "    .pivot(index=\"year\", columns=\"volume_category\", values=\"zero_days\")\n",
    "    .fillna(0)\n",
    "    .astype(int)\n",
    ")\n",
    "\n",
    "# Step 6: Reindex to include all years\n",
    "zero_summary = zero_summary.reindex(all_years, fill_value=0)\n",
    "\n",
    "# Step 7: Rename columns\n",
    "zero_summary.columns = [f\"{col}-AvT\" for col in zero_summary.columns]\n",
    "\n",
    "# Step 8: Display the new summary\n",
    "print(\"📊 Days with Zero Participation by Anthony van Tilburg\")\n",
    "print(zero_summary)\n"
   ]
  },
  {
   "cell_type": "code",
   "execution_count": 104,
   "metadata": {},
   "outputs": [
    {
     "name": "stdout",
     "output_type": "stream",
     "text": [
      "📊 Percentage of Days with Zero Participation by Anthony van Tilburg\n",
      "      some-AvT%  more-AvT%  intense-AvT%  crazy-AvT%\n",
      "year                                                \n",
      "2019       86.4       66.7         100.0        66.7\n",
      "2020       85.7       52.8          42.9        41.7\n",
      "2021       84.6       63.6          65.2        40.0\n",
      "2022       78.3       65.2          50.0        50.0\n",
      "2023       74.4       42.3          44.4        50.0\n",
      "2024       90.2       41.7          56.2        60.0\n",
      "2025       75.9       33.3          20.0        33.3\n"
     ]
    }
   ],
   "source": [
    "# Step 1: Original summary (total days per category per year)\n",
    "summary = (\n",
    "    daily_counts.groupby([\"year\", \"volume_category\"])\n",
    "    .size()\n",
    "    .reset_index(name=\"day_count\")\n",
    "    .pivot(index=\"year\", columns=\"volume_category\", values=\"day_count\")\n",
    "    .fillna(0)\n",
    "    .astype(int)\n",
    ")\n",
    "\n",
    "summary = summary.reindex(all_years, fill_value=0)\n",
    "\n",
    "# Step 2: Zero-participation summary\n",
    "zero_summary = (\n",
    "    daily_counts[daily_counts[\"anthony_zero\"]]\n",
    "    .groupby([\"year\", \"volume_category\"])\n",
    "    .size()\n",
    "    .reset_index(name=\"zero_days\")\n",
    "    .pivot(index=\"year\", columns=\"volume_category\", values=\"zero_days\")\n",
    "    .fillna(0)\n",
    "    .astype(int)\n",
    ")\n",
    "\n",
    "zero_summary = zero_summary.reindex(all_years, fill_value=0)\n",
    "zero_summary.columns = [f\"{col}-AvT\" for col in zero_summary.columns]\n",
    "\n",
    "# Step 3: Compute percentage of zero-participation days\n",
    "percentage_summary = (zero_summary.values / summary.values * 100).round(1)\n",
    "percentage_df = pd.DataFrame(\n",
    "    percentage_summary,\n",
    "    index=summary.index,\n",
    "    columns=[f\"{col}-AvT%\" for col in summary.columns]\n",
    ")\n",
    "\n",
    "# Step 4: Display the percentage summary\n",
    "print(\"📊 Percentage of Days with Zero Participation by Anthony van Tilburg\")\n",
    "print(percentage_df)\n"
   ]
  },
  {
   "cell_type": "code",
   "execution_count": 107,
   "metadata": {},
   "outputs": [
    {
     "name": "stdout",
     "output_type": "stream",
     "text": [
      "\n",
      "📊 Days with Zero Participation — AvT\n",
      "      some-AvT  more-AvT  intense-AvT  crazy-AvT\n",
      "year                                            \n",
      "2019        19         8            2          2\n",
      "2020        24        19            6          5\n",
      "2021        33        14           15          4\n",
      "2022        18        15            4          2\n",
      "2023        32        11            4          1\n",
      "2024        37        10            9          3\n",
      "2025        22         6            2          1\n",
      "\n",
      "📊 Days with Zero Participation — AB\n",
      "      some-AB  more-AB  intense-AB  crazy-AB\n",
      "year                                        \n",
      "2019       11        3           0         0\n",
      "2020       11        8           1         2\n",
      "2021       24        3           2         0\n",
      "2022        9        5           1         0\n",
      "2023       17        2           0         0\n",
      "2024       17        5           3         0\n",
      "2025       15        5           0         0\n",
      "\n",
      "📊 Days with Zero Participation — PB\n",
      "      some-PB  more-PB  intense-PB  crazy-PB\n",
      "year                                        \n",
      "2019        8        1           0         1\n",
      "2020       13        7           2         0\n",
      "2021       16        4           4         0\n",
      "2022       11        2           1         0\n",
      "2023       19        3           0         0\n",
      "2024       24        6           0         0\n",
      "2025        9        3           2         0\n",
      "\n",
      "📊 Days with Zero Participation — M\n",
      "      some-M  more-M  intense-M  crazy-M\n",
      "year                                    \n",
      "2019       8       3          0        0\n",
      "2020      12       4          2        1\n",
      "2021      20       2          1        0\n",
      "2022       6       6          1        0\n",
      "2023      20       2          0        0\n",
      "2024      14       1          0        0\n",
      "2025       7       0          0        0\n",
      "✅ Saved: c:\\Users\\avtnl\\Documents\\HU\\Data Analytics\\My_Project\\zero_participation_AvT.csv\n",
      "✅ Saved: c:\\Users\\avtnl\\Documents\\HU\\Data Analytics\\My_Project\\zero_participation_AB.csv\n",
      "✅ Saved: c:\\Users\\avtnl\\Documents\\HU\\Data Analytics\\My_Project\\zero_participation_PB.csv\n",
      "✅ Saved: c:\\Users\\avtnl\\Documents\\HU\\Data Analytics\\My_Project\\zero_participation_M.csv\n"
     ]
    }
   ],
   "source": [
    "# Define authors and their short labels\n",
    "authors = {\n",
    "    \"Anthony van Tilburg\": \"AvT\",\n",
    "    \"Anja Berkemeijer\": \"AB\",\n",
    "    \"Phons Berkemeijer\": \"PB\",\n",
    "    \"Madeleine\": \"M\"\n",
    "}\n",
    "\n",
    "# Create a copy of daily_counts to start\n",
    "daily_counts_extended = daily_counts.copy()\n",
    "\n",
    "# Initialize dictionary to hold each author's zero-participation summary\n",
    "zero_summaries = {}\n",
    "\n",
    "for full_name, label in authors.items():\n",
    "    # Step 1: Filter messages by author\n",
    "    author_msgs = df[df[\"author\"] == full_name]\n",
    "\n",
    "    # Step 2: Count messages per day\n",
    "    author_counts = author_msgs.groupby(\"date\").size().reset_index(name=f\"{label}_count\")\n",
    "\n",
    "    # Step 3: Merge with daily_counts\n",
    "    daily_counts_extended = daily_counts_extended.merge(author_counts, on=\"date\", how=\"left\")\n",
    "    daily_counts_extended[f\"{label}_count\"] = daily_counts_extended[f\"{label}_count\"].fillna(0).astype(int)\n",
    "\n",
    "    # Step 4: Flag zero participation\n",
    "    daily_counts_extended[f\"{label}_zero\"] = daily_counts_extended[f\"{label}_count\"] == 0\n",
    "\n",
    "    # Step 5: Count zero-participation days per category per year\n",
    "    zero_summary = (\n",
    "        daily_counts_extended[daily_counts_extended[f\"{label}_zero\"]]\n",
    "        .groupby([\"year\", \"volume_category\"])\n",
    "        .size()\n",
    "        .reset_index(name=\"zero_days\")\n",
    "        .pivot(index=\"year\", columns=\"volume_category\", values=\"zero_days\")\n",
    "        .fillna(0)\n",
    "        .astype(int)\n",
    "    )\n",
    "\n",
    "    # Step 6: Reindex to include all years\n",
    "    zero_summary = zero_summary.reindex(all_years, fill_value=0)\n",
    "\n",
    "    # Step 7: Rename columns\n",
    "    zero_summary.columns = [f\"{col}-{label}\" for col in zero_summary.columns]\n",
    "\n",
    "    # Store for later merge\n",
    "    zero_summaries[label] = zero_summary\n",
    "\n",
    "# Step 8: Combine all summaries into one DataFrame\n",
    "combined_zero_summary = pd.concat(zero_summaries.values(), axis=1)\n",
    "\n",
    "# Step 9: Display each author's zero-participation summary separately\n",
    "for label, summary_df in zero_summaries.items():\n",
    "    print(f\"\\n📊 Days with Zero Participation — {label}\")\n",
    "    print(summary_df)\n",
    "\n",
    "# Step 10: Save each author's table to a separate CSV file\n",
    "for label, summary_df in zero_summaries.items():\n",
    "    file_path = fr\"c:\\Users\\avtnl\\Documents\\HU\\Data Analytics\\My_Project\\zero_participation_{label}.csv\"\n",
    "    summary_df.to_csv(file_path, index=True)\n",
    "    print(f\"✅ Saved: {file_path}\")\n",
    "\n"
   ]
  },
  {
   "cell_type": "code",
   "execution_count": 144,
   "metadata": {},
   "outputs": [
    {
     "name": "stderr",
     "output_type": "stream",
     "text": [
      "C:\\Users\\avtnl\\AppData\\Local\\Temp\\ipykernel_32124\\4222519779.py:84: UserWarning:\n",
      "\n",
      "No artists with labels found to put in legend.  Note that artists whose label start with an underscore are ignored when legend() is called with no argument.\n",
      "\n"
     ]
    },
    {
     "data": {
      "image/png": "[encoded data removed]",
      "text/plain": [
       "<Figure size 1000x600 with 1 Axes>"
      ]
     },
     "metadata": {},
     "output_type": "display_data"
    }
   ],
   "source": [
    "import matplotlib.pyplot as plt\n",
    "\n",
    "# Normalize factor\n",
    "years_span = 6.125\n",
    "\n",
    "# Step 1: Total days per category\n",
    "total_days = (\n",
    "    daily_counts.groupby(\"volume_category\")\n",
    "    .size()\n",
    "    .reindex([\"some\", \"more\", \"intense\", \"crazy\"])\n",
    ") / years_span\n",
    "\n",
    "# Step 2: Participation days per author\n",
    "ordered_labels = [\"M\", \"AB\", \"PB\", \"AvT\"]\n",
    "author_participation = {}\n",
    "\n",
    "for label in ordered_labels:\n",
    "    zero_days = (\n",
    "        daily_counts_extended[daily_counts_extended[f\"{label}_zero\"]]\n",
    "        .groupby(\"volume_category\")\n",
    "        .size()\n",
    "        .reindex([\"some\", \"more\", \"intense\", \"crazy\"])\n",
    "        .fillna(0)\n",
    "    ) / years_span\n",
    "    participation_days = total_days - zero_days\n",
    "    author_participation[label] = participation_days\n",
    "\n",
    "# Step 3: Build DataFrame\n",
    "df_plot = pd.DataFrame(author_participation)\n",
    "df_plot.insert(0, \"Total Days\", total_days)\n",
    "df_plot = df_plot[[\"Total Days\", \"M\", \"AB\", \"PB\", \"AvT\"]]  # Ensure order\n",
    "categories = df_plot.index.tolist()\n",
    "\n",
    "# Step 4: Plot setup\n",
    "fig, ax = plt.subplots(figsize=(10, 6))\n",
    "bar_width = 0.15\n",
    "x = range(len(categories))\n",
    "\n",
    "# Plot Total Days (black)\n",
    "ax.bar([i - 2*bar_width for i in x], df_plot[\"Total Days\"], width=bar_width, color=\"blue\")\n",
    "\n",
    "# Plot Madeleine (light green)\n",
    "bars_M = ax.bar([i - bar_width for i in x], df_plot[\"M\"], width=bar_width, color=\"#C0C0C0\")  # light gray\n",
    "\n",
    "# Plot Anja (green)\n",
    "bars_AB = ax.bar(x, df_plot[\"AB\"], width=bar_width, color=\"#808080\") # gray\n",
    "\n",
    "# Plot Phons (dark green)\n",
    "bars_PB = ax.bar([i + bar_width for i in x], df_plot[\"PB\"], width=bar_width, color=\"#404040\")  # dark gray\n",
    "\n",
    "# Plot Anthony (red)\n",
    "bars_AvT = ax.bar([i + 2*bar_width for i in x], df_plot[\"AvT\"], width=bar_width, color=\"red\")\n",
    "\n",
    "# Step 5: Add names inside bars for \"some\" category\n",
    "some_index = categories.index(\"some\")\n",
    "bar_positions = [\n",
    "    some_index - bar_width,  # M\n",
    "    some_index,              # AB\n",
    "    some_index + bar_width,  # PB\n",
    "    some_index + 2*bar_width # AvT\n",
    "]\n",
    "names = [\"Madeleine\", \"Anja\", \"Phons\", \"Anthony\"]\n",
    "for pos, name, height in zip(bar_positions, names, [df_plot.loc[\"some\", lbl] for lbl in ordered_labels]):\n",
    "    ax.text(pos, height / 2, name, ha=\"center\", va=\"center\", color=\"black\", fontsize=9, rotation=\"vertical\")\n",
    "\n",
    "# Step 6: Final touches\n",
    "custom_labels = {\n",
    "    \"some\": \"Some chatting\",\n",
    "    \"more\": \"More chatting\",\n",
    "    \"intense\": \"Intense chatting\",\n",
    "    \"crazy\": \"Insane chatting\"\n",
    "}\n",
    "ax.set_xticks(x)\n",
    "ax.set_xticklabels([custom_labels[cat] for cat in categories])\n",
    "ax.set_ylabel(\"Average Number of Days per Year\")\n",
    "ax.text(0.03, 1.05, \"Anthony\", transform=ax.transAxes,\n",
    "        ha=\"left\", va=\"center\", fontsize=22, color=\"red\")\n",
    "ax.text(0.16, 1.05, \"is 'efficient' in chatting, no matter the intensity\",\n",
    "        transform=ax.transAxes, ha=\"left\", va=\"center\", fontsize=22, color=\"black\")\n",
    "ax.tick_params(axis='x', labelsize=10)\n",
    "ax.tick_params(axis='y', labelsize=10)\n",
    "ax.spines['top'].set_visible(False)\n",
    "ax.spines['right'].set_visible(False)\n",
    "ax.legend().set_visible(False)  # Remove legend\n",
    "\n",
    "plt.tight_layout()\n",
    "plt.show()\n",
    "\n"
   ]
  },
  {
   "cell_type": "code",
   "execution_count": null,
   "metadata": {},
   "outputs": [],
   "source": [
    "# Filter out \"MAAP\"\n",
    "df = df.loc[df[\"author\"] != \"MAAP\"]\n",
    "df = df.reset_index(drop=True)\n",
    "\n",
    "p1 = (\n",
    "    df[[\"author\", \"message\"]]\n",
    "    .groupby(\"author\")\n",
    "    .count()\n",
    "    .sort_values(\"message\", ascending=False)\n",
    ")\n",
    "\n",
    "k = 15\n",
    "topk = p1[:k]\n"
   ]
  },
  {
   "cell_type": "code",
   "execution_count": 67,
   "metadata": {},
   "outputs": [],
   "source": [
    "topk_authors = list(topk.index)"
   ]
  },
  {
   "cell_type": "code",
   "execution_count": 68,
   "metadata": {},
   "outputs": [
    {
     "data": {
      "text/html": [
       "<div>\n",
       "<style scoped>\n",
       "    .dataframe tbody tr th:only-of-type {\n",
       "        vertical-align: middle;\n",
       "    }\n",
       "\n",
       "    .dataframe tbody tr th {\n",
       "        vertical-align: top;\n",
       "    }\n",
       "\n",
       "    .dataframe thead th {\n",
       "        text-align: right;\n",
       "    }\n",
       "</style>\n",
       "<table border=\"1\" class=\"dataframe\">\n",
       "  <thead>\n",
       "    <tr style=\"text-align: right;\">\n",
       "      <th></th>\n",
       "      <th>timestamp</th>\n",
       "      <th>author</th>\n",
       "      <th>message</th>\n",
       "      <th>has_emoji</th>\n",
       "      <th>is_topk</th>\n",
       "    </tr>\n",
       "  </thead>\n",
       "  <tbody>\n",
       "    <tr>\n",
       "      <th>0</th>\n",
       "      <td>2015-11-04 11:28:12+00:00</td>\n",
       "      <td>Phons Berkemeijer</td>\n",
       "      <td>‎Phons Berkemeijer heeft deze groep gemaakt</td>\n",
       "      <td>False</td>\n",
       "      <td>True</td>\n",
       "    </tr>\n",
       "    <tr>\n",
       "      <th>1</th>\n",
       "      <td>2017-03-31 11:58:33+00:00</td>\n",
       "      <td>Phons Berkemeijer</td>\n",
       "      <td>‎Locatie: https://maps.google.com/?q=51.378368...</td>\n",
       "      <td>False</td>\n",
       "      <td>True</td>\n",
       "    </tr>\n",
       "    <tr>\n",
       "      <th>2</th>\n",
       "      <td>2018-05-01 21:31:07+00:00</td>\n",
       "      <td>Phons Berkemeijer</td>\n",
       "      <td>‎Dit bericht is verwijderd. ‎[13-05-2018, 15:0...</td>\n",
       "      <td>False</td>\n",
       "      <td>True</td>\n",
       "    </tr>\n",
       "    <tr>\n",
       "      <th>3</th>\n",
       "      <td>2019-04-07 19:35:25+00:00</td>\n",
       "      <td>Phons Berkemeijer</td>\n",
       "      <td>‎Dit bericht is verwijderd. ‎[31-05-2019, 19:2...</td>\n",
       "      <td>False</td>\n",
       "      <td>True</td>\n",
       "    </tr>\n",
       "    <tr>\n",
       "      <th>4</th>\n",
       "      <td>2019-08-04 13:39:20+00:00</td>\n",
       "      <td>Phons Berkemeijer</td>\n",
       "      <td>‎Phons Berkemeijer heeft de groepsafbeelding g...</td>\n",
       "      <td>False</td>\n",
       "      <td>True</td>\n",
       "    </tr>\n",
       "  </tbody>\n",
       "</table>\n",
       "</div>"
      ],
      "text/plain": [
       "                  timestamp             author  \\\n",
       "0 2015-11-04 11:28:12+00:00  Phons Berkemeijer   \n",
       "1 2017-03-31 11:58:33+00:00  Phons Berkemeijer   \n",
       "2 2018-05-01 21:31:07+00:00  Phons Berkemeijer   \n",
       "3 2019-04-07 19:35:25+00:00  Phons Berkemeijer   \n",
       "4 2019-08-04 13:39:20+00:00  Phons Berkemeijer   \n",
       "\n",
       "                                             message  has_emoji  is_topk  \n",
       "0        ‎Phons Berkemeijer heeft deze groep gemaakt      False     True  \n",
       "1  ‎Locatie: https://maps.google.com/?q=51.378368...      False     True  \n",
       "2  ‎Dit bericht is verwijderd. ‎[13-05-2018, 15:0...      False     True  \n",
       "3  ‎Dit bericht is verwijderd. ‎[31-05-2019, 19:2...      False     True  \n",
       "4  ‎Phons Berkemeijer heeft de groepsafbeelding g...      False     True  "
      ]
     },
     "execution_count": 68,
     "metadata": {},
     "output_type": "execute_result"
    }
   ],
   "source": [
    "df[\"is_topk\"] = df[\"author\"].apply(lambda x: x in topk_authors)\n",
    "df.head()"
   ]
  },
  {
   "cell_type": "code",
   "execution_count": 69,
   "metadata": {},
   "outputs": [
    {
     "data": {
      "text/plain": [
       "Text(0.5, 1.0, 'Sending the most messages...')"
      ]
     },
     "execution_count": 69,
     "metadata": {},
     "output_type": "execute_result"
    },
    {
     "data": {
      "image/png": "[encoded data removed]",
      "text/plain": [
       "<Figure size 1200x600 with 1 Axes>"
      ]
     },
     "metadata": {},
     "output_type": "display_data"
    }
   ],
   "source": [
    "plt.figure(figsize=(12, 6))\n",
    "sns.barplot(y=p1.index[:k], x=\"message\", data=topk)\n",
    "plt.xticks(rotation=90)\n",
    "plt.title(\"Sending the most messages...\")"
   ]
  },
  {
   "cell_type": "markdown",
   "metadata": {},
   "source": [
    "Maybe tweak the colors a bit"
   ]
  },
  {
   "cell_type": "code",
   "execution_count": 70,
   "metadata": {},
   "outputs": [
    {
     "data": {
      "text/plain": [
       "Text(0.5, 1.0, 'Sending the most messages...')"
      ]
     },
     "execution_count": 70,
     "metadata": {},
     "output_type": "execute_result"
    },
    {
     "data": {
      "image/png": "[encoded data removed]",
      "text/plain": [
       "<Figure size 640x480 with 1 Axes>"
      ]
     },
     "metadata": {},
     "output_type": "display_data"
    }
   ],
   "source": [
    "colors = [0 if x < 1000 else 1 for x in topk.message]\n",
    "custom_palette = {0: \"grey\", 1: \"red\"}\n",
    "sns.barplot(\n",
    "    y=p1.index[:k],\n",
    "    x=\"message\",\n",
    "    hue=colors,\n",
    "    data=topk,\n",
    "    palette=custom_palette,\n",
    "    legend=False,\n",
    ")\n",
    "plt.title(\"Sending the most messages...\")"
   ]
  },
  {
   "cell_type": "markdown",
   "metadata": {},
   "source": [
    "Let's calculate the average message length."
   ]
  },
  {
   "cell_type": "code",
   "execution_count": 71,
   "metadata": {},
   "outputs": [
    {
     "data": {
      "text/plain": [
       "Text(0.5, 1.0, 'Sending the longest messages...')"
      ]
     },
     "execution_count": 71,
     "metadata": {},
     "output_type": "execute_result"
    },
    {
     "data": {
      "image/png": "[encoded data removed]",
      "text/plain": [
       "<Figure size 640x480 with 1 Axes>"
      ]
     },
     "metadata": {},
     "output_type": "display_data"
    }
   ],
   "source": [
    "df[\"message_length\"] = df[\"message\"].str.len()\n",
    "p1 = (\n",
    "    df[[\"author\", \"message_length\"]]\n",
    "    .groupby(\"author\")\n",
    "    .mean()\n",
    "    .sort_values(\"message_length\", ascending=False)\n",
    ")\n",
    "k = 15\n",
    "topk = p1[:k]\n",
    "sns.barplot(y=p1.index[:k], x=\"message_length\", data=topk)\n",
    "plt.xlabel(\"Average message length\")\n",
    "plt.title(\"Sending the longest messages...\")"
   ]
  },
  {
   "cell_type": "markdown",
   "metadata": {},
   "source": [
    "Create a simple regex to look for links in the messages and add that as a feature:"
   ]
  },
  {
   "cell_type": "code",
   "execution_count": 72,
   "metadata": {},
   "outputs": [
    {
     "data": {
      "image/png": "[encoded data removed]",
      "text/plain": [
       "<Figure size 640x480 with 1 Axes>"
      ]
     },
     "metadata": {},
     "output_type": "display_data"
    }
   ],
   "source": [
    "has_link = r\"http\"\n",
    "df[\"has_link\"] = df[\"message\"].str.contains(has_link)\n",
    "if df[\"has_link\"].sum() > 0:\n",
    "    p1 = (\n",
    "        df[[\"author\", \"has_link\"]]\n",
    "        .groupby(\"author\")\n",
    "        .mean()\n",
    "        .sort_values(\"has_link\", ascending=False)\n",
    "    )\n",
    "\n",
    "    k = 15\n",
    "    topk = p1[:k]\n",
    "    sns.barplot(y=p1.index[:k], x=\"has_link\", data=topk)\n",
    "    plt.xlabel(\"Fraction of messages with a link\")\n",
    "    plt.title(\"Most links by...\")\n",
    "else:\n",
    "    logger.info(\"No links found in the messages\")"
   ]
  },
  {
   "cell_type": "markdown",
   "metadata": {},
   "source": [
    "Aggregate the emojis per user (can you change between sum and mean?)"
   ]
  },
  {
   "cell_type": "code",
   "execution_count": 73,
   "metadata": {},
   "outputs": [
    {
     "data": {
      "text/plain": [
       "Text(0.5, 1.0, \"Are emoji's non-verbal?\")"
      ]
     },
     "execution_count": 73,
     "metadata": {},
     "output_type": "execute_result"
    },
    {
     "data": {
      "image/png": "[encoded data removed]",
      "text/plain": [
       "<Figure size 640x480 with 1 Axes>"
      ]
     },
     "metadata": {},
     "output_type": "display_data"
    }
   ],
   "source": [
    "p2 = (\n",
    "    df[[\"author\", \"has_emoji\"]]\n",
    "    .groupby(\"author\")\n",
    "    .agg([\"sum\", \"mean\"])\n",
    "    .sort_values((\"has_emoji\", \"sum\"), ascending=False)\n",
    ")\n",
    "\n",
    "p2.columns = p2.columns.droplevel(0)\n",
    "topk = p2[:k]\n",
    "sns.barplot(y=p2.index[:k], x=\"mean\", data=topk)\n",
    "plt.xlabel(\"Average number of messages with an emoji\")\n",
    "plt.title(\"Are emoji's non-verbal?\")"
   ]
  },
  {
   "cell_type": "markdown",
   "metadata": {},
   "source": [
    "Let's add a cateory, based on the time when authors send a message:"
   ]
  },
  {
   "cell_type": "code",
   "execution_count": 74,
   "metadata": {},
   "outputs": [
    {
     "data": {
      "text/html": [
       "<div>\n",
       "<style scoped>\n",
       "    .dataframe tbody tr th:only-of-type {\n",
       "        vertical-align: middle;\n",
       "    }\n",
       "\n",
       "    .dataframe tbody tr th {\n",
       "        vertical-align: top;\n",
       "    }\n",
       "\n",
       "    .dataframe thead th {\n",
       "        text-align: right;\n",
       "    }\n",
       "</style>\n",
       "<table border=\"1\" class=\"dataframe\">\n",
       "  <thead>\n",
       "    <tr style=\"text-align: right;\">\n",
       "      <th></th>\n",
       "      <th>timestamp</th>\n",
       "      <th>author</th>\n",
       "      <th>message</th>\n",
       "      <th>has_emoji</th>\n",
       "      <th>is_topk</th>\n",
       "      <th>message_length</th>\n",
       "      <th>has_link</th>\n",
       "      <th>timestamp_category</th>\n",
       "    </tr>\n",
       "  </thead>\n",
       "  <tbody>\n",
       "    <tr>\n",
       "      <th>0</th>\n",
       "      <td>2015-11-04 11:28:12+00:00</td>\n",
       "      <td>Phons Berkemeijer</td>\n",
       "      <td>‎Phons Berkemeijer heeft deze groep gemaakt</td>\n",
       "      <td>False</td>\n",
       "      <td>True</td>\n",
       "      <td>43</td>\n",
       "      <td>False</td>\n",
       "      <td>worktimes</td>\n",
       "    </tr>\n",
       "    <tr>\n",
       "      <th>1</th>\n",
       "      <td>2017-03-31 11:58:33+00:00</td>\n",
       "      <td>Phons Berkemeijer</td>\n",
       "      <td>‎Locatie: https://maps.google.com/?q=51.378368...</td>\n",
       "      <td>False</td>\n",
       "      <td>True</td>\n",
       "      <td>2972</td>\n",
       "      <td>True</td>\n",
       "      <td>worktimes</td>\n",
       "    </tr>\n",
       "    <tr>\n",
       "      <th>2</th>\n",
       "      <td>2018-05-01 21:31:07+00:00</td>\n",
       "      <td>Phons Berkemeijer</td>\n",
       "      <td>‎Dit bericht is verwijderd. ‎[13-05-2018, 15:0...</td>\n",
       "      <td>False</td>\n",
       "      <td>True</td>\n",
       "      <td>4997</td>\n",
       "      <td>False</td>\n",
       "      <td>evening</td>\n",
       "    </tr>\n",
       "    <tr>\n",
       "      <th>3</th>\n",
       "      <td>2019-04-07 19:35:25+00:00</td>\n",
       "      <td>Phons Berkemeijer</td>\n",
       "      <td>‎Dit bericht is verwijderd. ‎[31-05-2019, 19:2...</td>\n",
       "      <td>False</td>\n",
       "      <td>True</td>\n",
       "      <td>1226</td>\n",
       "      <td>False</td>\n",
       "      <td>evening</td>\n",
       "    </tr>\n",
       "    <tr>\n",
       "      <th>4</th>\n",
       "      <td>2019-08-04 13:39:20+00:00</td>\n",
       "      <td>Phons Berkemeijer</td>\n",
       "      <td>‎Phons Berkemeijer heeft de groepsafbeelding g...</td>\n",
       "      <td>False</td>\n",
       "      <td>True</td>\n",
       "      <td>54</td>\n",
       "      <td>False</td>\n",
       "      <td>worktimes</td>\n",
       "    </tr>\n",
       "    <tr>\n",
       "      <th>...</th>\n",
       "      <td>...</td>\n",
       "      <td>...</td>\n",
       "      <td>...</td>\n",
       "      <td>...</td>\n",
       "      <td>...</td>\n",
       "      <td>...</td>\n",
       "      <td>...</td>\n",
       "      <td>...</td>\n",
       "    </tr>\n",
       "    <tr>\n",
       "      <th>3883</th>\n",
       "      <td>2025-09-04 18:17:57+00:00</td>\n",
       "      <td>Anthony van Tilburg</td>\n",
       "      <td>Alleen moeten we dan voor Anja een zeecontaine...</td>\n",
       "      <td>True</td>\n",
       "      <td>True</td>\n",
       "      <td>57</td>\n",
       "      <td>False</td>\n",
       "      <td>evening</td>\n",
       "    </tr>\n",
       "    <tr>\n",
       "      <th>3884</th>\n",
       "      <td>2025-09-04 18:18:05+00:00</td>\n",
       "      <td>Phons Berkemeijer</td>\n",
       "      <td>😂😂</td>\n",
       "      <td>True</td>\n",
       "      <td>True</td>\n",
       "      <td>2</td>\n",
       "      <td>False</td>\n",
       "      <td>evening</td>\n",
       "    </tr>\n",
       "    <tr>\n",
       "      <th>3885</th>\n",
       "      <td>2025-09-04 18:19:11+00:00</td>\n",
       "      <td>Anja Berkemeijer</td>\n",
       "      <td>Ik koop daar wel</td>\n",
       "      <td>False</td>\n",
       "      <td>True</td>\n",
       "      <td>16</td>\n",
       "      <td>False</td>\n",
       "      <td>evening</td>\n",
       "    </tr>\n",
       "    <tr>\n",
       "      <th>3886</th>\n",
       "      <td>2025-09-04 18:19:23+00:00</td>\n",
       "      <td>Phons Berkemeijer</td>\n",
       "      <td>1 is wel krap dan</td>\n",
       "      <td>False</td>\n",
       "      <td>True</td>\n",
       "      <td>17</td>\n",
       "      <td>False</td>\n",
       "      <td>evening</td>\n",
       "    </tr>\n",
       "    <tr>\n",
       "      <th>3887</th>\n",
       "      <td>2025-09-04 18:42:01+00:00</td>\n",
       "      <td>Anthony van Tilburg</td>\n",
       "      <td>😂😂</td>\n",
       "      <td>True</td>\n",
       "      <td>True</td>\n",
       "      <td>2</td>\n",
       "      <td>False</td>\n",
       "      <td>evening</td>\n",
       "    </tr>\n",
       "  </tbody>\n",
       "</table>\n",
       "<p>3888 rows × 8 columns</p>\n",
       "</div>"
      ],
      "text/plain": [
       "                     timestamp               author  \\\n",
       "0    2015-11-04 11:28:12+00:00    Phons Berkemeijer   \n",
       "1    2017-03-31 11:58:33+00:00    Phons Berkemeijer   \n",
       "2    2018-05-01 21:31:07+00:00    Phons Berkemeijer   \n",
       "3    2019-04-07 19:35:25+00:00    Phons Berkemeijer   \n",
       "4    2019-08-04 13:39:20+00:00    Phons Berkemeijer   \n",
       "...                        ...                  ...   \n",
       "3883 2025-09-04 18:17:57+00:00  Anthony van Tilburg   \n",
       "3884 2025-09-04 18:18:05+00:00    Phons Berkemeijer   \n",
       "3885 2025-09-04 18:19:11+00:00     Anja Berkemeijer   \n",
       "3886 2025-09-04 18:19:23+00:00    Phons Berkemeijer   \n",
       "3887 2025-09-04 18:42:01+00:00  Anthony van Tilburg   \n",
       "\n",
       "                                                message  has_emoji  is_topk  \\\n",
       "0           ‎Phons Berkemeijer heeft deze groep gemaakt      False     True   \n",
       "1     ‎Locatie: https://maps.google.com/?q=51.378368...      False     True   \n",
       "2     ‎Dit bericht is verwijderd. ‎[13-05-2018, 15:0...      False     True   \n",
       "3     ‎Dit bericht is verwijderd. ‎[31-05-2019, 19:2...      False     True   \n",
       "4     ‎Phons Berkemeijer heeft de groepsafbeelding g...      False     True   \n",
       "...                                                 ...        ...      ...   \n",
       "3883  Alleen moeten we dan voor Anja een zeecontaine...       True     True   \n",
       "3884                                                 😂😂       True     True   \n",
       "3885                                   Ik koop daar wel      False     True   \n",
       "3886                                  1 is wel krap dan      False     True   \n",
       "3887                                                 😂😂       True     True   \n",
       "\n",
       "      message_length  has_link timestamp_category  \n",
       "0                 43     False          worktimes  \n",
       "1               2972      True          worktimes  \n",
       "2               4997     False            evening  \n",
       "3               1226     False            evening  \n",
       "4                 54     False          worktimes  \n",
       "...              ...       ...                ...  \n",
       "3883              57     False            evening  \n",
       "3884               2     False            evening  \n",
       "3885              16     False            evening  \n",
       "3886              17     False            evening  \n",
       "3887               2     False            evening  \n",
       "\n",
       "[3888 rows x 8 columns]"
      ]
     },
     "execution_count": 74,
     "metadata": {},
     "output_type": "execute_result"
    }
   ],
   "source": [
    "import pandas as pd\n",
    "\n",
    "# Define the time ranges\n",
    "time_ranges = [\"00:00\", \"06:00\", \"08:00\", \"17:30\", \"22:00\", \"23:59\"]\n",
    "# Define the category labels\n",
    "categories = [\"night\", \"morning\", \"worktimes\", \"evening\", \"late\"]\n",
    "# Categorize the timestamp column\n",
    "df[\"timestamp_category\"] = pd.cut(\n",
    "    df[\"timestamp\"].dt.time.astype(str),\n",
    "    bins=time_ranges,\n",
    "    labels=categories,\n",
    "    right=False,\n",
    ")\n",
    "# Display the updated dataframe\n",
    "df"
   ]
  },
  {
   "cell_type": "markdown",
   "metadata": {},
   "source": [
    "Now we can group and count the categories:"
   ]
  },
  {
   "cell_type": "code",
   "execution_count": 75,
   "metadata": {},
   "outputs": [
    {
     "data": {
      "text/html": [
       "<div>\n",
       "<style scoped>\n",
       "    .dataframe tbody tr th:only-of-type {\n",
       "        vertical-align: middle;\n",
       "    }\n",
       "\n",
       "    .dataframe tbody tr th {\n",
       "        vertical-align: top;\n",
       "    }\n",
       "\n",
       "    .dataframe thead th {\n",
       "        text-align: right;\n",
       "    }\n",
       "</style>\n",
       "<table border=\"1\" class=\"dataframe\">\n",
       "  <thead>\n",
       "    <tr style=\"text-align: right;\">\n",
       "      <th>timestamp_category</th>\n",
       "      <th>night</th>\n",
       "      <th>morning</th>\n",
       "      <th>worktimes</th>\n",
       "      <th>evening</th>\n",
       "      <th>late</th>\n",
       "    </tr>\n",
       "    <tr>\n",
       "      <th>author</th>\n",
       "      <th></th>\n",
       "      <th></th>\n",
       "      <th></th>\n",
       "      <th></th>\n",
       "      <th></th>\n",
       "    </tr>\n",
       "  </thead>\n",
       "  <tbody>\n",
       "    <tr>\n",
       "      <th>Anja Berkemeijer</th>\n",
       "      <td>0.025274</td>\n",
       "      <td>0.005897</td>\n",
       "      <td>0.500421</td>\n",
       "      <td>0.342881</td>\n",
       "      <td>0.125527</td>\n",
       "    </tr>\n",
       "    <tr>\n",
       "      <th>Anthony van Tilburg</th>\n",
       "      <td>0.019608</td>\n",
       "      <td>0.002801</td>\n",
       "      <td>0.456583</td>\n",
       "      <td>0.338936</td>\n",
       "      <td>0.182073</td>\n",
       "    </tr>\n",
       "    <tr>\n",
       "      <th>Madeleine</th>\n",
       "      <td>0.028309</td>\n",
       "      <td>0.009946</td>\n",
       "      <td>0.539403</td>\n",
       "      <td>0.316756</td>\n",
       "      <td>0.105585</td>\n",
       "    </tr>\n",
       "    <tr>\n",
       "      <th>Phons Berkemeijer</th>\n",
       "      <td>0.034816</td>\n",
       "      <td>0.004836</td>\n",
       "      <td>0.544487</td>\n",
       "      <td>0.307544</td>\n",
       "      <td>0.108317</td>\n",
       "    </tr>\n",
       "  </tbody>\n",
       "</table>\n",
       "</div>"
      ],
      "text/plain": [
       "timestamp_category      night   morning  worktimes   evening      late\n",
       "author                                                                \n",
       "Anja Berkemeijer     0.025274  0.005897   0.500421  0.342881  0.125527\n",
       "Anthony van Tilburg  0.019608  0.002801   0.456583  0.338936  0.182073\n",
       "Madeleine            0.028309  0.009946   0.539403  0.316756  0.105585\n",
       "Phons Berkemeijer    0.034816  0.004836   0.544487  0.307544  0.108317"
      ]
     },
     "execution_count": 75,
     "metadata": {},
     "output_type": "execute_result"
    }
   ],
   "source": [
    "# Group the dataframe by 'author' and 'timestamp_category', and count the occurrences\n",
    "p3 = df.groupby([\"author\", \"timestamp_category\"]).size().unstack()\n",
    "\n",
    "# Calculate the fraction of each category for every author\n",
    "p3_frac = p3.div(p3.sum(axis=1), axis=0)\n",
    "p3_frac"
   ]
  },
  {
   "cell_type": "markdown",
   "metadata": {},
   "source": [
    "Let's use plotly the create a stacked bar chart:"
   ]
  },
  {
   "cell_type": "code",
   "execution_count": 76,
   "metadata": {},
   "outputs": [
    {
     "data": {
      "text/html": [
       "<div>\n",
       "<style scoped>\n",
       "    .dataframe tbody tr th:only-of-type {\n",
       "        vertical-align: middle;\n",
       "    }\n",
       "\n",
       "    .dataframe tbody tr th {\n",
       "        vertical-align: top;\n",
       "    }\n",
       "\n",
       "    .dataframe thead th {\n",
       "        text-align: right;\n",
       "    }\n",
       "</style>\n",
       "<table border=\"1\" class=\"dataframe\">\n",
       "  <thead>\n",
       "    <tr style=\"text-align: right;\">\n",
       "      <th></th>\n",
       "      <th>author</th>\n",
       "      <th>timestamp_category</th>\n",
       "      <th>value</th>\n",
       "    </tr>\n",
       "  </thead>\n",
       "  <tbody>\n",
       "    <tr>\n",
       "      <th>0</th>\n",
       "      <td>Anja Berkemeijer</td>\n",
       "      <td>night</td>\n",
       "      <td>0.025274</td>\n",
       "    </tr>\n",
       "    <tr>\n",
       "      <th>1</th>\n",
       "      <td>Anthony van Tilburg</td>\n",
       "      <td>night</td>\n",
       "      <td>0.019608</td>\n",
       "    </tr>\n",
       "    <tr>\n",
       "      <th>2</th>\n",
       "      <td>Madeleine</td>\n",
       "      <td>night</td>\n",
       "      <td>0.028309</td>\n",
       "    </tr>\n",
       "    <tr>\n",
       "      <th>3</th>\n",
       "      <td>Phons Berkemeijer</td>\n",
       "      <td>night</td>\n",
       "      <td>0.034816</td>\n",
       "    </tr>\n",
       "    <tr>\n",
       "      <th>4</th>\n",
       "      <td>Anja Berkemeijer</td>\n",
       "      <td>morning</td>\n",
       "      <td>0.005897</td>\n",
       "    </tr>\n",
       "  </tbody>\n",
       "</table>\n",
       "</div>"
      ],
      "text/plain": [
       "                author timestamp_category     value\n",
       "0     Anja Berkemeijer              night  0.025274\n",
       "1  Anthony van Tilburg              night  0.019608\n",
       "2            Madeleine              night  0.028309\n",
       "3    Phons Berkemeijer              night  0.034816\n",
       "4     Anja Berkemeijer            morning  0.005897"
      ]
     },
     "execution_count": 76,
     "metadata": {},
     "output_type": "execute_result"
    }
   ],
   "source": [
    "p4 = p3_frac.reset_index().melt(id_vars=\"author\")\n",
    "p4.head()"
   ]
  },
  {
   "cell_type": "code",
   "execution_count": 77,
   "metadata": {},
   "outputs": [],
   "source": [
    "p4_filtered = p4[p4[\"author\"].isin(topk_authors)]"
   ]
  },
  {
   "cell_type": "code",
   "execution_count": 78,
   "metadata": {},
   "outputs": [
    {
     "data": {
      "application/vnd.plotly.v1+json": {
       "config": {
        "plotlyServerURL": "https://plot.ly"
       },
       "data": [
        {
         "hovertemplate": "timestamp_category=night<br>value=%{x}<br>author=%{y}<extra></extra>",
         "legendgroup": "night",
         "marker": {
          "color": "#636efa",
          "pattern": {
           "shape": ""
          }
         },
         "name": "night",
         "orientation": "h",
         "showlegend": true,
         "textposition": "auto",
         "type": "bar",
         "x": {
          "bdata": "vjsZ+V/hmT8UFBQUFBSUPw30ht0P/Zw/MFN4aW/ToT8=",
          "dtype": "f8"
         },
         "xaxis": "x",
         "y": [
          "Anja Berkemeijer",
          "Anthony van Tilburg",
          "Madeleine",
          "Phons Berkemeijer"
         ],
         "yaxis": "y"
        },
        {
         "hovertemplate": "timestamp_category=morning<br>value=%{x}<br>author=%{y}<extra></extra>",
         "legendgroup": "morning",
         "marker": {
          "color": "#EF553B",
          "pattern": {
           "shape": ""
          }
         },
         "name": "morning",
         "orientation": "h",
         "showlegend": true,
         "textposition": "auto",
         "type": "bar",
         "x": {
          "bdata": "fvN96K4neD8XYPIWYPJmP2Nf2+DMXoQ/xLGFynvOcz8=",
          "dtype": "f8"
         },
         "xaxis": "x",
         "y": [
          "Anja Berkemeijer",
          "Anthony van Tilburg",
          "Madeleine",
          "Phons Berkemeijer"
         ],
         "yaxis": "y"
        },
        {
         "hovertemplate": "timestamp_category=worktimes<br>value=%{x}<br>author=%{y}<extra></extra>",
         "legendgroup": "worktimes",
         "marker": {
          "color": "#00cc96",
          "pattern": {
           "shape": ""
          }
         },
         "name": "worktimes",
         "orientation": "h",
         "showlegend": true,
         "textposition": "auto",
         "type": "bar",
         "x": {
          "bdata": "kDYhYnMD4D9dpjhdpjjdP8AxJofKQuE/+pvB5XBs4T8=",
          "dtype": "f8"
         },
         "xaxis": "x",
         "y": [
          "Anja Berkemeijer",
          "Anthony van Tilburg",
          "Madeleine",
          "Phons Berkemeijer"
         ],
         "yaxis": "y"
        },
        {
         "hovertemplate": "timestamp_category=evening<br>value=%{x}<br>author=%{y}<extra></extra>",
         "legendgroup": "evening",
         "marker": {
          "color": "#ab63fa",
          "pattern": {
           "shape": ""
          }
         },
         "name": "evening",
         "orientation": "h",
         "showlegend": true,
         "textposition": "auto",
         "type": "bar",
         "x": {
          "bdata": "7P42C8Tx1T/WHrHVHrHVP7M9n6m6RdQ/2tt0BMuu0z8=",
          "dtype": "f8"
         },
         "xaxis": "x",
         "y": [
          "Anja Berkemeijer",
          "Anthony van Tilburg",
          "Madeleine",
          "Phons Berkemeijer"
         ],
         "yaxis": "y"
        },
        {
         "hovertemplate": "timestamp_category=late<br>value=%{x}<br>author=%{y}<extra></extra>",
         "legendgroup": "late",
         "marker": {
          "color": "#FFA15A",
          "pattern": {
           "shape": ""
          }
         },
         "name": "late",
         "orientation": "h",
         "showlegend": true,
         "textposition": "auto",
         "type": "bar",
         "x": {
          "bdata": "0hCm6kARwD+XKU6XKU7HP0RS1IyjB7s/Eiy7Tq26uz8=",
          "dtype": "f8"
         },
         "xaxis": "x",
         "y": [
          "Anja Berkemeijer",
          "Anthony van Tilburg",
          "Madeleine",
          "Phons Berkemeijer"
         ],
         "yaxis": "y"
        }
       ],
       "layout": {
        "barmode": "stack",
        "legend": {
         "title": {
          "text": "timestamp_category"
         },
         "tracegroupgap": 0
        },
        "margin": {
         "t": 60
        },
        "template": {
         "data": {
          "bar": [
           {
            "error_x": {
             "color": "#2a3f5f"
            },
            "error_y": {
             "color": "#2a3f5f"
            },
            "marker": {
             "line": {
              "color": "#E5ECF6",
              "width": 0.5
             },
             "pattern": {
              "fillmode": "overlay",
              "size": 10,
              "solidity": 0.2
             }
            },
            "type": "bar"
           }
          ],
          "barpolar": [
           {
            "marker": {
             "line": {
              "color": "#E5ECF6",
              "width": 0.5
             },
             "pattern": {
              "fillmode": "overlay",
              "size": 10,
              "solidity": 0.2
             }
            },
            "type": "barpolar"
           }
          ],
          "carpet": [
           {
            "aaxis": {
             "endlinecolor": "#2a3f5f",
             "gridcolor": "white",
             "linecolor": "white",
             "minorgridcolor": "white",
             "startlinecolor": "#2a3f5f"
            },
            "baxis": {
             "endlinecolor": "#2a3f5f",
             "gridcolor": "white",
             "linecolor": "white",
             "minorgridcolor": "white",
             "startlinecolor": "#2a3f5f"
            },
            "type": "carpet"
           }
          ],
          "choropleth": [
           {
            "colorbar": {
             "outlinewidth": 0,
             "ticks": ""
            },
            "type": "choropleth"
           }
          ],
          "contour": [
           {
            "colorbar": {
             "outlinewidth": 0,
             "ticks": ""
            },
            "colorscale": [
             [
              0,
              "#0d0887"
             ],
             [
              0.1111111111111111,
              "#46039f"
             ],
             [
              0.2222222222222222,
              "#7201a8"
             ],
             [
              0.3333333333333333,
              "#9c179e"
             ],
             [
              0.4444444444444444,
              "#bd3786"
             ],
             [
              0.5555555555555556,
              "#d8576b"
             ],
             [
              0.6666666666666666,
              "#ed7953"
             ],
             [
              0.7777777777777778,
              "#fb9f3a"
             ],
             [
              0.8888888888888888,
              "#fdca26"
             ],
             [
              1,
              "#f0f921"
             ]
            ],
            "type": "contour"
           }
          ],
          "contourcarpet": [
           {
            "colorbar": {
             "outlinewidth": 0,
             "ticks": ""
            },
            "type": "contourcarpet"
           }
          ],
          "heatmap": [
           {
            "colorbar": {
             "outlinewidth": 0,
             "ticks": ""
            },
            "colorscale": [
             [
              0,
              "#0d0887"
             ],
             [
              0.1111111111111111,
              "#46039f"
             ],
             [
              0.2222222222222222,
              "#7201a8"
             ],
             [
              0.3333333333333333,
              "#9c179e"
             ],
             [
              0.4444444444444444,
              "#bd3786"
             ],
             [
              0.5555555555555556,
              "#d8576b"
             ],
             [
              0.6666666666666666,
              "#ed7953"
             ],
             [
              0.7777777777777778,
              "#fb9f3a"
             ],
             [
              0.8888888888888888,
              "#fdca26"
             ],
             [
              1,
              "#f0f921"
             ]
            ],
            "type": "heatmap"
           }
          ],
          "histogram": [
           {
            "marker": {
             "pattern": {
              "fillmode": "overlay",
              "size": 10,
              "solidity": 0.2
             }
            },
            "type": "histogram"
           }
          ],
          "histogram2d": [
           {
            "colorbar": {
             "outlinewidth": 0,
             "ticks": ""
            },
            "colorscale": [
             [
              0,
              "#0d0887"
             ],
             [
              0.1111111111111111,
              "#46039f"
             ],
             [
              0.2222222222222222,
              "#7201a8"
             ],
             [
              0.3333333333333333,
              "#9c179e"
             ],
             [
              0.4444444444444444,
              "#bd3786"
             ],
             [
              0.5555555555555556,
              "#d8576b"
             ],
             [
              0.6666666666666666,
              "#ed7953"
             ],
             [
              0.7777777777777778,
              "#fb9f3a"
             ],
             [
              0.8888888888888888,
              "#fdca26"
             ],
             [
              1,
              "#f0f921"
             ]
            ],
            "type": "histogram2d"
           }
          ],
          "histogram2dcontour": [
           {
            "colorbar": {
             "outlinewidth": 0,
             "ticks": ""
            },
            "colorscale": [
             [
              0,
              "#0d0887"
             ],
             [
              0.1111111111111111,
              "#46039f"
             ],
             [
              0.2222222222222222,
              "#7201a8"
             ],
             [
              0.3333333333333333,
              "#9c179e"
             ],
             [
              0.4444444444444444,
              "#bd3786"
             ],
             [
              0.5555555555555556,
              "#d8576b"
             ],
             [
              0.6666666666666666,
              "#ed7953"
             ],
             [
              0.7777777777777778,
              "#fb9f3a"
             ],
             [
              0.8888888888888888,
              "#fdca26"
             ],
             [
              1,
              "#f0f921"
             ]
            ],
            "type": "histogram2dcontour"
           }
          ],
          "mesh3d": [
           {
            "colorbar": {
             "outlinewidth": 0,
             "ticks": ""
            },
            "type": "mesh3d"
           }
          ],
          "parcoords": [
           {
            "line": {
             "colorbar": {
              "outlinewidth": 0,
              "ticks": ""
             }
            },
            "type": "parcoords"
           }
          ],
          "pie": [
           {
            "automargin": true,
            "type": "pie"
           }
          ],
          "scatter": [
           {
            "fillpattern": {
             "fillmode": "overlay",
             "size": 10,
             "solidity": 0.2
            },
            "type": "scatter"
           }
          ],
          "scatter3d": [
           {
            "line": {
             "colorbar": {
              "outlinewidth": 0,
              "ticks": ""
             }
            },
            "marker": {
             "colorbar": {
              "outlinewidth": 0,
              "ticks": ""
             }
            },
            "type": "scatter3d"
           }
          ],
          "scattercarpet": [
           {
            "marker": {
             "colorbar": {
              "outlinewidth": 0,
              "ticks": ""
             }
            },
            "type": "scattercarpet"
           }
          ],
          "scattergeo": [
           {
            "marker": {
             "colorbar": {
              "outlinewidth": 0,
              "ticks": ""
             }
            },
            "type": "scattergeo"
           }
          ],
          "scattergl": [
           {
            "marker": {
             "colorbar": {
              "outlinewidth": 0,
              "ticks": ""
             }
            },
            "type": "scattergl"
           }
          ],
          "scattermap": [
           {
            "marker": {
             "colorbar": {
              "outlinewidth": 0,
              "ticks": ""
             }
            },
            "type": "scattermap"
           }
          ],
          "scattermapbox": [
           {
            "marker": {
             "colorbar": {
              "outlinewidth": 0,
              "ticks": ""
             }
            },
            "type": "scattermapbox"
           }
          ],
          "scatterpolar": [
           {
            "marker": {
             "colorbar": {
              "outlinewidth": 0,
              "ticks": ""
             }
            },
            "type": "scatterpolar"
           }
          ],
          "scatterpolargl": [
           {
            "marker": {
             "colorbar": {
              "outlinewidth": 0,
              "ticks": ""
             }
            },
            "type": "scatterpolargl"
           }
          ],
          "scatterternary": [
           {
            "marker": {
             "colorbar": {
              "outlinewidth": 0,
              "ticks": ""
             }
            },
            "type": "scatterternary"
           }
          ],
          "surface": [
           {
            "colorbar": {
             "outlinewidth": 0,
             "ticks": ""
            },
            "colorscale": [
             [
              0,
              "#0d0887"
             ],
             [
              0.1111111111111111,
              "#46039f"
             ],
             [
              0.2222222222222222,
              "#7201a8"
             ],
             [
              0.3333333333333333,
              "#9c179e"
             ],
             [
              0.4444444444444444,
              "#bd3786"
             ],
             [
              0.5555555555555556,
              "#d8576b"
             ],
             [
              0.6666666666666666,
              "#ed7953"
             ],
             [
              0.7777777777777778,
              "#fb9f3a"
             ],
             [
              0.8888888888888888,
              "#fdca26"
             ],
             [
              1,
              "#f0f921"
             ]
            ],
            "type": "surface"
           }
          ],
          "table": [
           {
            "cells": {
             "fill": {
              "color": "#EBF0F8"
             },
             "line": {
              "color": "white"
             }
            },
            "header": {
             "fill": {
              "color": "#C8D4E3"
             },
             "line": {
              "color": "white"
             }
            },
            "type": "table"
           }
          ]
         },
         "layout": {
          "annotationdefaults": {
           "arrowcolor": "#2a3f5f",
           "arrowhead": 0,
           "arrowwidth": 1
          },
          "autotypenumbers": "strict",
          "coloraxis": {
           "colorbar": {
            "outlinewidth": 0,
            "ticks": ""
           }
          },
          "colorscale": {
           "diverging": [
            [
             0,
             "#8e0152"
            ],
            [
             0.1,
             "#c51b7d"
            ],
            [
             0.2,
             "#de77ae"
            ],
            [
             0.3,
             "#f1b6da"
            ],
            [
             0.4,
             "#fde0ef"
            ],
            [
             0.5,
             "#f7f7f7"
            ],
            [
             0.6,
             "#e6f5d0"
            ],
            [
             0.7,
             "#b8e186"
            ],
            [
             0.8,
             "#7fbc41"
            ],
            [
             0.9,
             "#4d9221"
            ],
            [
             1,
             "#276419"
            ]
           ],
           "sequential": [
            [
             0,
             "#0d0887"
            ],
            [
             0.1111111111111111,
             "#46039f"
            ],
            [
             0.2222222222222222,
             "#7201a8"
            ],
            [
             0.3333333333333333,
             "#9c179e"
            ],
            [
             0.4444444444444444,
             "#bd3786"
            ],
            [
             0.5555555555555556,
             "#d8576b"
            ],
            [
             0.6666666666666666,
             "#ed7953"
            ],
            [
             0.7777777777777778,
             "#fb9f3a"
            ],
            [
             0.8888888888888888,
             "#fdca26"
            ],
            [
             1,
             "#f0f921"
            ]
           ],
           "sequentialminus": [
            [
             0,
             "#0d0887"
            ],
            [
             0.1111111111111111,
             "#46039f"
            ],
            [
             0.2222222222222222,
             "#7201a8"
            ],
            [
             0.3333333333333333,
             "#9c179e"
            ],
            [
             0.4444444444444444,
             "#bd3786"
            ],
            [
             0.5555555555555556,
             "#d8576b"
            ],
            [
             0.6666666666666666,
             "#ed7953"
            ],
            [
             0.7777777777777778,
             "#fb9f3a"
            ],
            [
             0.8888888888888888,
             "#fdca26"
            ],
            [
             1,
             "#f0f921"
            ]
           ]
          },
          "colorway": [
           "#636efa",
           "#EF553B",
           "#00cc96",
           "#ab63fa",
           "#FFA15A",
           "#19d3f3",
           "#FF6692",
           "#B6E880",
           "#FF97FF",
           "#FECB52"
          ],
          "font": {
           "color": "#2a3f5f"
          },
          "geo": {
           "bgcolor": "white",
           "lakecolor": "white",
           "landcolor": "#E5ECF6",
           "showlakes": true,
           "showland": true,
           "subunitcolor": "white"
          },
          "hoverlabel": {
           "align": "left"
          },
          "hovermode": "closest",
          "mapbox": {
           "style": "light"
          },
          "paper_bgcolor": "white",
          "plot_bgcolor": "#E5ECF6",
          "polar": {
           "angularaxis": {
            "gridcolor": "white",
            "linecolor": "white",
            "ticks": ""
           },
           "bgcolor": "#E5ECF6",
           "radialaxis": {
            "gridcolor": "white",
            "linecolor": "white",
            "ticks": ""
           }
          },
          "scene": {
           "xaxis": {
            "backgroundcolor": "#E5ECF6",
            "gridcolor": "white",
            "gridwidth": 2,
            "linecolor": "white",
            "showbackground": true,
            "ticks": "",
            "zerolinecolor": "white"
           },
           "yaxis": {
            "backgroundcolor": "#E5ECF6",
            "gridcolor": "white",
            "gridwidth": 2,
            "linecolor": "white",
            "showbackground": true,
            "ticks": "",
            "zerolinecolor": "white"
           },
           "zaxis": {
            "backgroundcolor": "#E5ECF6",
            "gridcolor": "white",
            "gridwidth": 2,
            "linecolor": "white",
            "showbackground": true,
            "ticks": "",
            "zerolinecolor": "white"
           }
          },
          "shapedefaults": {
           "line": {
            "color": "#2a3f5f"
           }
          },
          "ternary": {
           "aaxis": {
            "gridcolor": "white",
            "linecolor": "white",
            "ticks": ""
           },
           "baxis": {
            "gridcolor": "white",
            "linecolor": "white",
            "ticks": ""
           },
           "bgcolor": "#E5ECF6",
           "caxis": {
            "gridcolor": "white",
            "linecolor": "white",
            "ticks": ""
           }
          },
          "title": {
           "x": 0.05
          },
          "xaxis": {
           "automargin": true,
           "gridcolor": "white",
           "linecolor": "white",
           "ticks": "",
           "title": {
            "standoff": 15
           },
           "zerolinecolor": "white",
           "zerolinewidth": 2
          },
          "yaxis": {
           "automargin": true,
           "gridcolor": "white",
           "linecolor": "white",
           "ticks": "",
           "title": {
            "standoff": 15
           },
           "zerolinecolor": "white",
           "zerolinewidth": 2
          }
         }
        },
        "xaxis": {
         "anchor": "y",
         "domain": [
          0,
          1
         ],
         "title": {
          "text": "value"
         }
        },
        "yaxis": {
         "anchor": "x",
         "domain": [
          0,
          1
         ],
         "title": {
          "text": "author"
         }
        }
       }
      }
     },
     "metadata": {},
     "output_type": "display_data"
    }
   ],
   "source": [
    "import plotly.express as px\n",
    "\n",
    "fig = px.bar(\n",
    "    p4_filtered, y=\"author\", x=\"value\", color=\"timestamp_category\", barmode=\"stack\"\n",
    ")\n",
    "fig.show()"
   ]
  },
  {
   "cell_type": "markdown",
   "metadata": {},
   "source": [
    "Let's extract the minimum and maximum time of the messages for every author, and convert that to a decimal fraction:"
   ]
  },
  {
   "cell_type": "code",
   "execution_count": 89,
   "metadata": {},
   "outputs": [
    {
     "data": {
      "text/html": [
       "<div>\n",
       "<style scoped>\n",
       "    .dataframe tbody tr th:only-of-type {\n",
       "        vertical-align: middle;\n",
       "    }\n",
       "\n",
       "    .dataframe tbody tr th {\n",
       "        vertical-align: top;\n",
       "    }\n",
       "\n",
       "    .dataframe thead th {\n",
       "        text-align: right;\n",
       "    }\n",
       "</style>\n",
       "<table border=\"1\" class=\"dataframe\">\n",
       "  <thead>\n",
       "    <tr style=\"text-align: right;\">\n",
       "      <th></th>\n",
       "      <th>author</th>\n",
       "      <th>min_x_values</th>\n",
       "      <th>max_x_values</th>\n",
       "    </tr>\n",
       "  </thead>\n",
       "  <tbody>\n",
       "    <tr>\n",
       "      <th>0</th>\n",
       "      <td>Anja Berkemeijer</td>\n",
       "      <td>0.023611</td>\n",
       "      <td>23.995000</td>\n",
       "    </tr>\n",
       "    <tr>\n",
       "      <th>1</th>\n",
       "      <td>Anthony van Tilburg</td>\n",
       "      <td>0.061389</td>\n",
       "      <td>23.952778</td>\n",
       "    </tr>\n",
       "    <tr>\n",
       "      <th>2</th>\n",
       "      <td>Madeleine</td>\n",
       "      <td>0.033056</td>\n",
       "      <td>23.917500</td>\n",
       "    </tr>\n",
       "    <tr>\n",
       "      <th>3</th>\n",
       "      <td>Phons Berkemeijer</td>\n",
       "      <td>0.014444</td>\n",
       "      <td>23.991944</td>\n",
       "    </tr>\n",
       "  </tbody>\n",
       "</table>\n",
       "</div>"
      ],
      "text/plain": [
       "                author  min_x_values  max_x_values\n",
       "0     Anja Berkemeijer      0.023611     23.995000\n",
       "1  Anthony van Tilburg      0.061389     23.952778\n",
       "2            Madeleine      0.033056     23.917500\n",
       "3    Phons Berkemeijer      0.014444     23.991944"
      ]
     },
     "execution_count": 89,
     "metadata": {},
     "output_type": "execute_result"
    }
   ],
   "source": [
    "df[\"hour\"] = df[\"timestamp\"].dt.time\n",
    "summary_df = df.groupby(\"author\")[\"hour\"].agg([\"min\", \"max\"]).reset_index()\n",
    "\n",
    "\n",
    "def convert_to_decimal_hours(timestamp):\n",
    "    dec_hour = timestamp.hour + timestamp.minute / 60 + timestamp.second / 3600\n",
    "    return dec_hour\n",
    "\n",
    "\n",
    "summary_df[\"min_x_values\"] = summary_df[\"min\"].apply(convert_to_decimal_hours)\n",
    "summary_df[\"max_x_values\"] = summary_df[\"max\"].apply(convert_to_decimal_hours)\n",
    "\n",
    "# Drop the original 'min' and 'max' columns as they are no longer needed\n",
    "summary_df = summary_df.drop([\"min\", \"max\"], axis=1)\n",
    "summary_df.head()\n"
   ]
  },
  {
   "cell_type": "markdown",
   "metadata": {},
   "source": [
    "With this, we can create a nice barbell chart. Try to add colors for your own chart!"
   ]
  },
  {
   "cell_type": "code",
   "execution_count": 80,
   "metadata": {},
   "outputs": [
    {
     "data": {
      "image/png": "[encoded data removed]",
      "text/plain": [
       "<Figure size 1000x800 with 1 Axes>"
      ]
     },
     "metadata": {},
     "output_type": "display_data"
    }
   ],
   "source": [
    "# Create a larger plot\n",
    "plt.figure(figsize=(10, 8))\n",
    "\n",
    "# Create scatter plots\n",
    "sns.scatterplot(data=summary_df, x=\"min_x_values\", y=\"author\", color=\"grey\")\n",
    "sns.scatterplot(data=summary_df, x=\"max_x_values\", y=\"author\", color=\"grey\")\n",
    "\n",
    "# Add lines\n",
    "for index, row in summary_df.iterrows():\n",
    "    plt.plot(\n",
    "        [row[\"min_x_values\"], row[\"max_x_values\"]],\n",
    "        [row[\"author\"], row[\"author\"]],\n",
    "        color=\"grey\",\n",
    "    )\n",
    "\n",
    "\n",
    "# Adjust the font size of the y-axis labels if needed\n",
    "plt.yticks(fontsize=10)\n",
    "\n",
    "# Show the plot\n",
    "plt.show()"
   ]
  },
  {
   "cell_type": "markdown",
   "metadata": {},
   "source": [
    "Another approach for comparing is to create a heatmap:"
   ]
  },
  {
   "cell_type": "code",
   "execution_count": 81,
   "metadata": {},
   "outputs": [
    {
     "data": {
      "text/plain": [
       "Text(0.5, 1.0, 'Heatmap')"
      ]
     },
     "execution_count": 81,
     "metadata": {},
     "output_type": "execute_result"
    },
    {
     "data": {
      "image/png": "[encoded data removed]",
      "text/plain": [
       "<Figure size 640x480 with 2 Axes>"
      ]
     },
     "metadata": {},
     "output_type": "display_data"
    }
   ],
   "source": [
    "df[\"day_of_week\"] = df[\"timestamp\"].dt.dayofweek\n",
    "author_day_counts = df.groupby([\"author\", \"day_of_week\"]).size().unstack(fill_value=0)\n",
    "author_day_percentages = author_day_counts.div(author_day_counts.sum(axis=1), axis=0)\n",
    "\n",
    "\n",
    "filtered = author_day_percentages.loc[topk_authors]\n",
    "sns.heatmap(filtered, annot=True, fmt=\".2f\", linewidths=0.5, cmap=\"vlag\")\n",
    "plt.xticks(\n",
    "    ticks=range(7),\n",
    "    labels=[\n",
    "        \"Monday\",\n",
    "        \"Tuesday\",\n",
    "        \"Wednesday\",\n",
    "        \"Thursday\",\n",
    "        \"Friday\",\n",
    "        \"Saturday\",\n",
    "        \"Sunday\",\n",
    "    ],\n",
    "    rotation=45,\n",
    ")\n",
    "plt.title(\"Heatmap\")"
   ]
  },
  {
   "cell_type": "markdown",
   "metadata": {},
   "source": [
    "Let's save all the new features we added:"
   ]
  },
  {
   "cell_type": "code",
   "execution_count": 82,
   "metadata": {},
   "outputs": [
    {
     "data": {
      "text/plain": [
       "WindowsPath('C:/Users/avtnl/Documents/HU/Data Analytics/My_Project/data/processed/whatsapp-20250910-002822-maap-cleaned.parq')"
      ]
     },
     "execution_count": 82,
     "metadata": {},
     "output_type": "execute_result"
    }
   ],
   "source": [
    "datafile"
   ]
  },
  {
   "cell_type": "code",
   "execution_count": 83,
   "metadata": {},
   "outputs": [],
   "source": [
    "df.to_parquet(datafile, index=False)"
   ]
  }
 ],
 "metadata": {
  "kernelspec": {
   "display_name": ".venv",
   "language": "python",
   "name": "python3"
  },
  "language_info": {
   "codemirror_mode": {
    "name": "ipython",
    "version": 3
   },
   "file_extension": ".py",
   "mimetype": "text/x-python",
   "name": "python",
   "nbconvert_exporter": "python",
   "pygments_lexer": "ipython3",
   "version": "3.13.7"
  }
 },
 "nbformat": 4,
 "nbformat_minor": 2
}
